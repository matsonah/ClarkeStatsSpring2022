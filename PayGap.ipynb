{
  "nbformat": 4,
  "nbformat_minor": 0,
  "metadata": {
    "colab": {
      "name": "PayGap.ipynb",
      "provenance": [],
      "authorship_tag": "ABX9TyMK+xfbra1JaX3Bj/51v6lh",
      "include_colab_link": true
    },
    "kernelspec": {
      "name": "ir",
      "display_name": "R"
    },
    "language_info": {
      "name": "R"
    }
  },
  "cells": [
    {
      "cell_type": "markdown",
      "metadata": {
        "id": "view-in-github",
        "colab_type": "text"
      },
      "source": [
        "<a href=\"https://colab.research.google.com/github/matsonah/ClarkeStatsSpring2022/blob/main/PayGap.ipynb\" target=\"_parent\"><img src=\"https://colab.research.google.com/assets/colab-badge.svg\" alt=\"Open In Colab\"/></a>"
      ]
    },
    {
      "cell_type": "code",
      "execution_count": 13,
      "metadata": {
        "colab": {
          "base_uri": "https://localhost:8080/",
          "height": 69
        },
        "id": "2pfRXmXF1gTA",
        "outputId": "c31164de-6ec6-410a-e9f3-0cfbf41f4098"
      },
      "outputs": [
        {
          "output_type": "display_data",
          "data": {
            "text/plain": [
              " [1] \"EmployerName\"              \"EmployerId\"               \n",
              " [3] \"Address\"                   \"PostCode\"                 \n",
              " [5] \"CompanyNumber\"             \"SicCodes\"                 \n",
              " [7] \"DiffMeanHourlyPercent\"     \"DiffMedianHourlyPercent\"  \n",
              " [9] \"DiffMeanBonusPercent\"      \"DiffMedianBonusPercent\"   \n",
              "[11] \"MaleBonusPercent\"          \"FemaleBonusPercent\"       \n",
              "[13] \"MaleLowerQuartile\"         \"FemaleLowerQuartile\"      \n",
              "[15] \"MaleLowerMiddleQuartile\"   \"FemaleLowerMiddleQuartile\"\n",
              "[17] \"MaleUpperMiddleQuartile\"   \"FemaleUpperMiddleQuartile\"\n",
              "[19] \"MaleTopQuartile\"           \"FemaleTopQuartile\"        \n",
              "[21] \"CompanyLinkToGPGInfo\"      \"ResponsiblePerson\"        \n",
              "[23] \"EmployerSize\"              \"CurrentName\"              \n",
              "[25] \"SubmittedAfterTheDeadline\" \"DueDate\"                  \n",
              "[27] \"DateSubmitted\"            "
            ],
            "text/latex": "\\begin{enumerate*}\n\\item 'EmployerName'\n\\item 'EmployerId'\n\\item 'Address'\n\\item 'PostCode'\n\\item 'CompanyNumber'\n\\item 'SicCodes'\n\\item 'DiffMeanHourlyPercent'\n\\item 'DiffMedianHourlyPercent'\n\\item 'DiffMeanBonusPercent'\n\\item 'DiffMedianBonusPercent'\n\\item 'MaleBonusPercent'\n\\item 'FemaleBonusPercent'\n\\item 'MaleLowerQuartile'\n\\item 'FemaleLowerQuartile'\n\\item 'MaleLowerMiddleQuartile'\n\\item 'FemaleLowerMiddleQuartile'\n\\item 'MaleUpperMiddleQuartile'\n\\item 'FemaleUpperMiddleQuartile'\n\\item 'MaleTopQuartile'\n\\item 'FemaleTopQuartile'\n\\item 'CompanyLinkToGPGInfo'\n\\item 'ResponsiblePerson'\n\\item 'EmployerSize'\n\\item 'CurrentName'\n\\item 'SubmittedAfterTheDeadline'\n\\item 'DueDate'\n\\item 'DateSubmitted'\n\\end{enumerate*}\n",
            "text/markdown": "1. 'EmployerName'\n2. 'EmployerId'\n3. 'Address'\n4. 'PostCode'\n5. 'CompanyNumber'\n6. 'SicCodes'\n7. 'DiffMeanHourlyPercent'\n8. 'DiffMedianHourlyPercent'\n9. 'DiffMeanBonusPercent'\n10. 'DiffMedianBonusPercent'\n11. 'MaleBonusPercent'\n12. 'FemaleBonusPercent'\n13. 'MaleLowerQuartile'\n14. 'FemaleLowerQuartile'\n15. 'MaleLowerMiddleQuartile'\n16. 'FemaleLowerMiddleQuartile'\n17. 'MaleUpperMiddleQuartile'\n18. 'FemaleUpperMiddleQuartile'\n19. 'MaleTopQuartile'\n20. 'FemaleTopQuartile'\n21. 'CompanyLinkToGPGInfo'\n22. 'ResponsiblePerson'\n23. 'EmployerSize'\n24. 'CurrentName'\n25. 'SubmittedAfterTheDeadline'\n26. 'DueDate'\n27. 'DateSubmitted'\n\n\n",
            "text/html": [
              "<style>\n",
              ".list-inline {list-style: none; margin:0; padding: 0}\n",
              ".list-inline>li {display: inline-block}\n",
              ".list-inline>li:not(:last-child)::after {content: \"\\00b7\"; padding: 0 .5ex}\n",
              "</style>\n",
              "<ol class=list-inline><li>'EmployerName'</li><li>'EmployerId'</li><li>'Address'</li><li>'PostCode'</li><li>'CompanyNumber'</li><li>'SicCodes'</li><li>'DiffMeanHourlyPercent'</li><li>'DiffMedianHourlyPercent'</li><li>'DiffMeanBonusPercent'</li><li>'DiffMedianBonusPercent'</li><li>'MaleBonusPercent'</li><li>'FemaleBonusPercent'</li><li>'MaleLowerQuartile'</li><li>'FemaleLowerQuartile'</li><li>'MaleLowerMiddleQuartile'</li><li>'FemaleLowerMiddleQuartile'</li><li>'MaleUpperMiddleQuartile'</li><li>'FemaleUpperMiddleQuartile'</li><li>'MaleTopQuartile'</li><li>'FemaleTopQuartile'</li><li>'CompanyLinkToGPGInfo'</li><li>'ResponsiblePerson'</li><li>'EmployerSize'</li><li>'CurrentName'</li><li>'SubmittedAfterTheDeadline'</li><li>'DueDate'</li><li>'DateSubmitted'</li></ol>\n"
            ]
          },
          "metadata": {}
        }
      ],
      "source": [
        "gender = read.csv(url(\"https://gender-pay-gap.service.gov.uk/viewing/download-data/2021\"))\n",
        "names(gender)"
      ]
    },
    {
      "cell_type": "code",
      "source": [
        "gender$column = gender$DiffMeanHourlyPercent\n",
        "sample_size   = 100\n",
        "\n",
        "focus = subset(gender, !is.na(gender$column))\n",
        "selection = sample(1:length(focus$column), sample_size)\n",
        "mydata = focus[selection,]\n",
        "\n",
        "glance = summary(mydata$column)\n",
        "first = as.numeric(glance[2])\n",
        "third = as.numeric(glance[5])\n",
        "lb = first - 1.5*(third - first)\n",
        "ub = third + 1.5*(third - first)\n",
        "outliers = subset(mydata, mydata$column < lb | mydata$column > ub)\n",
        "insides = subset(mydata, mydata$column >= lb & mydata$column <= ub)\n",
        "cat(sep=\"\", \"Number of outliers: \", length(outliers$column),\".\")\n",
        "\n",
        "par(mfrow=c(2,1))\n",
        "boxplot(mydata$column, horizontal=T)\n",
        "boxplot(insides$column, horizontal=T)"
      ],
      "metadata": {
        "colab": {
          "base_uri": "https://localhost:8080/",
          "height": 454
        },
        "id": "d-t29TgP1jWy",
        "outputId": "c5623663-c4b5-490f-a4da-143a8a12e3c7"
      },
      "execution_count": 174,
      "outputs": [
        {
          "output_type": "stream",
          "name": "stdout",
          "text": [
            "Number of outliers: 2."
          ]
        },
        {
          "output_type": "display_data",
          "data": {
            "image/png": "[encoded data removed]",
            "text/plain": [
              "plot without title"
            ]
          },
          "metadata": {
            "image/png": {
              "width": 420,
              "height": 420
            }
          }
        }
      ]
    },
    {
      "cell_type": "code",
      "source": [
        "str(gender$column)"
      ],
      "metadata": {
        "colab": {
          "base_uri": "https://localhost:8080/"
        },
        "id": "ULFoVHXK1mWA",
        "outputId": "832c13b5-3f7c-4081-e9dd-121c35a98880"
      },
      "execution_count": 166,
      "outputs": [
        {
          "output_type": "stream",
          "name": "stdout",
          "text": [
            " NULL\n"
          ]
        }
      ]
    },
    {
      "cell_type": "code",
      "source": [
        ""
      ],
      "metadata": {
        "id": "nzQ5ij8A1ntp"
      },
      "execution_count": null,
      "outputs": []
    }
  ]
}