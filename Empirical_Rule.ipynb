{
  "nbformat": 4,
  "nbformat_minor": 0,
  "metadata": {
    "colab": {
      "name": "Empirical Rule.ipynb",
      "provenance": [],
      "authorship_tag": "ABX9TyOLucI7b4v/QR0KdsY6YT2X",
      "include_colab_link": true
    },
    "kernelspec": {
      "name": "ir",
      "display_name": "R"
    },
    "language_info": {
      "name": "R"
    }
  },
  "cells": [
    {
      "cell_type": "markdown",
      "metadata": {
        "id": "view-in-github",
        "colab_type": "text"
      },
      "source": [
        "<a href=\"https://colab.research.google.com/github/matsonah/ClarkeStatsSpring2022/blob/main/Empirical_Rule.ipynb\" target=\"_parent\"><img src=\"https://colab.research.google.com/assets/colab-badge.svg\" alt=\"Open In Colab\"/></a>"
      ]
    },
    {
      "cell_type": "markdown",
      "source": [
        "This Colab is for Stone 38.\n",
        "\n",
        "[Chapter 6, Section 2](https://openstax.org/books/introductory-statistics/pages/6-2-using-the-normal-distribution)\n"
      ],
      "metadata": {
        "id": "RsNhjwjc27x-"
      }
    },
    {
      "cell_type": "code",
      "metadata": {
        "colab": {
          "base_uri": "https://localhost:8080/",
          "height": 138
        },
        "id": "16f7vnErHAST",
        "outputId": "87d0f888-45eb-4938-fbdb-6c0c15fa56d4"
      },
      "source": [
        "#Computes the probability that an observation is between z_left and z_right standard deviations. \n",
        "\n",
        "datasource=c(\"https://raw.githubusercontent.com/matsonah/ClarkeStatsSpring2022/main/data/WID_Data_2021-07-21.csv\")\n",
        "full_data = read.csv(url(datasource))\n",
        "\n",
        "mydata = full_data$p99p100\n",
        "\n",
        "mu = mean(mydata)\n",
        "sigma = sd(mydata)\n",
        "low_obs = 0.195     # leftmost observation of interest\n",
        "high_obs = Inf     # rightmost observation of interest\n",
        "\n",
        "z_left = (low_obs - mu)/sigma \n",
        "z_right = (high_obs - mu)/sigma\n",
        "collection = integrate(dnorm, z_left, z_right)\n",
        "collection$value  # proportion of data between low_obs and high_obs assuming \n",
        "                  # a normal distribution of data. \n",
        "\n",
        "cat(\"\\nThe probability that a random observation from our data set \\n\n",
        "is between\", low_obs, \"and\", high_obs, \"is approximately\", trunc(collection$value*10000)/100, \"percent \\n\n",
        "provided our data set is normally distributed.\")"
      ],
      "execution_count": 6,
      "outputs": [
        {
          "output_type": "display_data",
          "data": {
            "text/plain": [
              "[1] 0.1628011"
            ],
            "text/latex": "0.162801076306616",
            "text/markdown": "0.162801076306616",
            "text/html": [
              "0.162801076306616"
            ]
          },
          "metadata": {}
        },
        {
          "output_type": "stream",
          "name": "stdout",
          "text": [
            "\n",
            "The probability that a random observation from our data set \n",
            "\n",
            "is between 0.195 and Inf is approximately 16.28 percent \n",
            "\n",
            "provided our data set is normally distributed."
          ]
        }
      ]
    },
    {
      "cell_type": "code",
      "metadata": {
        "id": "PlN3HFvBHNWa"
      },
      "source": [
        "# (obs - mu)/sigma to calculate z. \n",
        "# Use -1*Inf for no lower bound.  (at obs or below: low_obs = -1*Inf and then high_obs = <your number> )\n",
        "# Use Inf for no upper bound.  (at obs or above: low_obs = <your number> and then high_obs = Inf)"
      ],
      "execution_count": null,
      "outputs": []
    }
  ]
}