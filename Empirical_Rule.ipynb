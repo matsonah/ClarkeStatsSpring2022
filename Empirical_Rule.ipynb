{
  "nbformat": 4,
  "nbformat_minor": 0,
  "metadata": {
    "colab": {
      "name": "Empirical Rule.ipynb",
      "provenance": [],
      "authorship_tag": "ABX9TyM4dbgcmz1nH3DPSQjVIK39",
      "include_colab_link": true
    },
    "kernelspec": {
      "name": "ir",
      "display_name": "R"
    },
    "language_info": {
      "name": "R"
    }
  },
  "cells": [
    {
      "cell_type": "markdown",
      "metadata": {
        "id": "view-in-github",
        "colab_type": "text"
      },
      "source": [
        "<a href=\"https://colab.research.google.com/github/matsonah/ClarkeStatsSpring2022/blob/main/Empirical_Rule.ipynb\" target=\"_parent\"><img src=\"https://colab.research.google.com/assets/colab-badge.svg\" alt=\"Open In Colab\"/></a>"
      ]
    },
    {
      "cell_type": "markdown",
      "source": [
        "This Colab is for Stone 38.\n"
      ],
      "metadata": {
        "id": "RsNhjwjc27x-"
      }
    },
    {
      "cell_type": "code",
      "metadata": {
        "colab": {
          "base_uri": "https://localhost:8080/",
          "height": 34
        },
        "id": "16f7vnErHAST",
        "outputId": "ab16a8d4-c89e-46d7-d1d8-3aeb9cb2f5b1"
      },
      "source": [
        "#Computes the probability that an observation is between z_left and z_right standard deviations. \n",
        "\n",
        "mydata = c(9, 20, 16, 0, 6, 39, 0, 6, 37, 17, 7)\n",
        "\n",
        "mu = mean(mydata)\n",
        "sigma = sd(mydata)\n",
        "low_obs = 10      # leftmost observation of interest\n",
        "high_obs = 25     # rightmost observation of interest\n",
        "\n",
        "z_left = (low_obs - mu)/sigma \n",
        "z_right = (high_obs - mu)/sigma\n",
        "collection = integrate(dnorm, z_left, z_right)\n",
        "collection$value  # proportion of data between low_obs and high_obs assuming \n",
        "                  # a normal distribution of data. "
      ],
      "execution_count": null,
      "outputs": [
        {
          "output_type": "display_data",
          "data": {
            "text/plain": [
              "[1] 0.4133284"
            ],
            "text/latex": "0.413328416720363",
            "text/markdown": "0.413328416720363",
            "text/html": [
              "0.413328416720363"
            ]
          },
          "metadata": {}
        }
      ]
    },
    {
      "cell_type": "code",
      "metadata": {
        "id": "PlN3HFvBHNWa"
      },
      "source": [
        "# (obs - mu)/sigma to calculate z. \n",
        "# Use -1*Inf for no lower bound.\n",
        "# Use Inf for no upper bound. "
      ],
      "execution_count": null,
      "outputs": []
    }
  ]
}