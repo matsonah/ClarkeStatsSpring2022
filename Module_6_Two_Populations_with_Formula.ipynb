{
  "nbformat": 4,
  "nbformat_minor": 0,
  "metadata": {
    "colab": {
      "name": "Module 6 Two Populations with Formula.ipynb",
      "provenance": [],
      "include_colab_link": true
    },
    "kernelspec": {
      "name": "ir",
      "display_name": "R"
    },
    "language_info": {
      "name": "R"
    }
  },
  "cells": [
    {
      "cell_type": "markdown",
      "metadata": {
        "id": "view-in-github",
        "colab_type": "text"
      },
      "source": [
        "<a href=\"https://colab.research.google.com/github/matsonah/ClarkeStatsSpring2022/blob/main/Module_6_Two_Populations_with_Formula.ipynb\" target=\"_parent\"><img src=\"https://colab.research.google.com/assets/colab-badge.svg\" alt=\"Open In Colab\"/></a>"
      ]
    },
    {
      "cell_type": "markdown",
      "metadata": {
        "id": "94aR5v7Bmwtj"
      },
      "source": [
        "Module 6 includes stones 38 through 44 and primarily practices outcome 7. For those reading the OER text, we are in [Chapter 8](https://openstax.org/books/introductory-statistics/pages/8-introduction). \n",
        "\n",
        "This Colab addresses stone 41. \n",
        "\n",
        "Code Block 1 prepares data. You want two data sets when you are done. \n",
        "\n",
        "Code Block 2 uses a formula to build a confidence interval. \n",
        "\n",
        "Code Block 3 uses a bootstrapping to build a confidence interval. \n",
        "\n",
        "Code Block 4 graphs the bootstrap for visualizing what happened. "
      ]
    },
    {
      "cell_type": "code",
      "metadata": {
        "id": "nUP5cuUOmgFl",
        "colab": {
          "base_uri": "https://localhost:8080/"
        },
        "outputId": "610d5fbc-3ebe-4e27-9775-7270817d3e81"
      },
      "source": [
        "#### Code Block 1 \n",
        "# Prepare data for analysis \n",
        "\n",
        "ethnicity <- read.csv(\"Race and Ethnicity.csv\")\n",
        "\n",
        "hispanic_sums <- 0\n",
        "tom_sums <- 0 \n",
        "\n",
        "years=seq(2013, 2019, 1)\n",
        "for(year in 1:7) {\n",
        "  temp_data = subset(ethnicity, ID.Ethnicity==1 & Year==years[year])\n",
        "  hispanic_sums[year]=sum(temp_data$Population)\n",
        "  temp_data <- 0 \n",
        "  temp_data = subset(ethnicity, ID.Race==6 & Year==years[year])\n",
        "  tom_sums[year]=sum(temp_data$Population)\n",
        "}\n",
        "hispanic <- data.frame(Year=years, Population=hispanic_sums)\n",
        "tom <- data.frame(Year=years, Population=tom_sums)\n",
        "\n",
        "str(hispanic)\n",
        "str(tom)"
      ],
      "execution_count": null,
      "outputs": [
        {
          "output_type": "stream",
          "name": "stdout",
          "text": [
            "'data.frame':\t7 obs. of  2 variables:\n",
            " $ Year      : num  2013 2014 2015 2016 2017 ...\n",
            " $ Population: num  1232 1261 1410 1558 1287 ...\n",
            "'data.frame':\t7 obs. of  2 variables:\n",
            " $ Year      : num  2013 2014 2015 2016 2017 ...\n",
            " $ Population: num  2407 2234 2030 1554 1320 ...\n"
          ]
        }
      ]
    },
    {
      "cell_type": "code",
      "metadata": {
        "id": "jR8K67Y-qG7U",
        "colab": {
          "base_uri": "https://localhost:8080/",
          "height": 106
        },
        "outputId": "5066ccae-a48e-462b-8c6a-3c38f1fff8a1"
      },
      "source": [
        "### Code Block 2\n",
        "# now that the data are prepared, we can analyze them. \n",
        "# IF your sample is big enough (say, 30 or more), you can use this formula. \n",
        "# IF your sample is small (say under 30), use Code Block 3. \n",
        "\n",
        "data_1 = hispanic$Population\n",
        "data_2 = tom$Population\n",
        "conf.level = 0.90\n",
        "\n",
        "\n",
        "# prepare essential parts from data set 1\n",
        "x.bar1 = mean(data_1)\n",
        "size1 = length(data_1)\n",
        "stdev1 = sd(data_1)\n",
        "size1l = size1-1\n",
        "\n",
        "# prepare essential parts from data set 2\n",
        "x.bar2 = mean(data_2)\n",
        "size2 = length(data_2)\n",
        "stdev2 = sd(data_2)\n",
        "size2l = size2-1 \n",
        "\n",
        "# Working on figuring out the smaller than 30 sample size scenario\n",
        "degf = size1l + size2l\n",
        "t.star = qt ((1-conf.level)/2, df = degf, lower.tail=F)\n",
        "# build the confidence interval using a formula\n",
        "comp = x.bar1 - x.bar2\n",
        "\n",
        "z.star = qnorm(conf.level)\n",
        "S_p = sqrt((size1l*size1^2 + size2l*size2^2)/(size1l+size2l))\n",
        "SE = S_p*sqrt(1/size1 + 1/size2)\n",
        "MoE = abs(z.star) * SE   #z.star for sample sizes around 30+ \n",
        "lower = comp - MoE \n",
        "upper = comp + MoE \n",
        "\n",
        "cat(sep=\"\",\"At a confidence level of \", conf.level*100, \"%, the actual average\")\n",
        "cat(sep=\"\",\" difference in population \\nis between \", floor(lower),\" and \", ceiling(upper), \" people with an assumed \\n margin of error of \", MoE, \".\")\n",
        "\n",
        "\n",
        "SEt = S_p*sqrt(x.bar1/size1 + x.bar2/size2)\n",
        "z.star*SE\n",
        "t.star*SE"
      ],
      "execution_count": null,
      "outputs": [
        {
          "output_type": "stream",
          "name": "stdout",
          "text": [
            "At a confidence level of 90%, the actual average difference in population \n",
            "is between -285 and -274 people with an assumed \n",
            " margin of error of 4.795127."
          ]
        },
        {
          "output_type": "display_data",
          "data": {
            "text/plain": [
              "[1] 4.795127"
            ],
            "text/latex": "4.79512688175167",
            "text/markdown": "4.79512688175167",
            "text/html": [
              "4.79512688175167"
            ]
          },
          "metadata": {}
        },
        {
          "output_type": "display_data",
          "data": {
            "text/plain": [
              "[1] 6.668709"
            ],
            "text/latex": "6.66870939795055",
            "text/markdown": "6.66870939795055",
            "text/html": [
              "6.66870939795055"
            ]
          },
          "metadata": {}
        }
      ]
    },
    {
      "cell_type": "markdown",
      "metadata": {
        "id": "lkmNt66H5PPS"
      },
      "source": [
        "Bootstrap via repeated sampling with replacement.\n"
      ]
    },
    {
      "cell_type": "code",
      "metadata": {
        "id": "1WRlvP7Wysep",
        "colab": {
          "base_uri": "https://localhost:8080/"
        },
        "outputId": "fbbf29af-522c-443c-aa29-862b506cac9d"
      },
      "source": [
        "#### Code Block 3 \n",
        "# fakes drawing samples from a big population based on the hopefully \n",
        "# representative samples that were provided. \n",
        "\n",
        "data_1 = hispanic$Population\n",
        "data_2 = tom$Population\n",
        "\n",
        "z_conf=0.9 \n",
        "alpha = 1-z_conf \n",
        "zsc=qnorm(z_conf + alpha/2)\n",
        "\n",
        "\n",
        "# creates a bootstrap function called bs. \n",
        "bs = function (data1, data2, test_runs){\n",
        "  size1=length(data1)\n",
        "  size2=length(data2)\n",
        "  test <- 0\n",
        "  for(i in 1:test_runs){ \n",
        "    test[i] = mean(sample(data1, size1, replace=TRUE))-mean(sample(data2, size2, replace=TRUE))  #can switch mean out with median\n",
        "  }\n",
        "  return(test)\n",
        "}\n",
        "\n",
        "Boot = data.frame(x=bs(data_1, data_2,100000))  #calls the bs function for the two data sets. \n",
        "Boot_mean = mean(Boot$x)\n",
        "Boot_sd = sd(Boot$x)\n",
        "Boot_left=Boot_mean - zsc*Boot_sd\n",
        "Boot_right=Boot_mean + zsc*Boot_sd \n",
        "Boots=c(Boot_left,Boot_right)\n",
        "\n",
        "cat(sep=\"\", \"With a confidence level of \", z_conf*100, \"%, the actual population paramater is between \", Boot_left, \" and \", Boot_right, \".\\n\")\n",
        "cat(sep=\"\", \"At a confidence level of \", z_conf*100, \"%, the actual population parameter is \\napproximately \", Boot_mean,\" with a margin of error of \", zsc*Boot_sd,\".\\n\")\n"
      ],
      "execution_count": null,
      "outputs": [
        {
          "output_type": "stream",
          "name": "stdout",
          "text": [
            "With a confidence level of 90%, the actual population paramater is between -609.8113 and 49.44429.\n",
            "At a confidence level of 90%, the actual population parameter is \n",
            "approximately -280.1835 with a margin of error of 329.6278.\n"
          ]
        }
      ]
    },
    {
      "cell_type": "code",
      "metadata": {
        "colab": {
          "base_uri": "https://localhost:8080/",
          "height": 437
        },
        "id": "wLU_uOUKkYyf",
        "outputId": "4fedafe8-770f-4f3e-dfd1-fada1aa08ca5"
      },
      "source": [
        "### Code Block 4 \n",
        "# What did that bootstrap difference look like anyway? \n",
        "library(ggplot2)\n",
        "\n",
        "# Fancy function defined to allow for shading. \n",
        "dnorm_sd <- function(x,numsd){\n",
        "  norm_sd <- dnorm(x,Boot_mean, Boot_sd)\n",
        "  lb = Boot_mean - numsd*Boot_sd  #left bound \n",
        "  rb = Boot_mean + numsd*Boot_sd  #right bound \n",
        "  # Force NA values outside interval x in [leftbound, rightbound]:\n",
        "  norm_sd[x <= lb | x >= rb] <- NA\n",
        "  return(norm_sd)   #return is the result of the function dnorm_sd \n",
        "}\n",
        "\n",
        "ggplot( Boot, aes(x)) + \n",
        "  geom_histogram(aes(y=..density..),binwidth=1) + \n",
        "  stat_function( fun=dnorm,    args=list(mean=Boot_mean, sd=Boot_sd), col=\"green\", size=2) +\n",
        "  stat_function( fun=dnorm_sd, args=list(numsd=zsc),  geom=\"area\",  fill=\"green\", alpha=0.3 ) + \n",
        "  geom_vline( xintercept=Boots,  linetype=\"longdash\",  col=\"blue\", size=2) "
      ],
      "execution_count": null,
      "outputs": [
        {
          "output_type": "display_data",
          "data": {
            "image/png": "[encoded data removed]",
            "text/plain": [
              "plot without title"
            ]
          },
          "metadata": {
            "image/png": {
              "width": 420,
              "height": 420
            }
          }
        }
      ]
    }
  ]
}