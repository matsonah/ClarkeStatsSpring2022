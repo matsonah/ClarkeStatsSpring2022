{
  "nbformat": 4,
  "nbformat_minor": 0,
  "metadata": {
    "colab": {
      "name": "Spring 2022 Module 6 B From File.ipynb",
      "provenance": [],
      "include_colab_link": true
    },
    "kernelspec": {
      "name": "ir",
      "display_name": "R"
    },
    "language_info": {
      "name": "R"
    }
  },
  "cells": [
    {
      "cell_type": "markdown",
      "metadata": {
        "id": "view-in-github",
        "colab_type": "text"
      },
      "source": [
        "<a href=\"https://colab.research.google.com/github/matsonah/ClarkeStatsSpring2022/blob/main/Spring_2022_Module_6_B_From_File.ipynb\" target=\"_parent\"><img src=\"https://colab.research.google.com/assets/colab-badge.svg\" alt=\"Open In Colab\"/></a>"
      ]
    },
    {
      "cell_type": "markdown",
      "metadata": {
        "id": "94aR5v7Bmwtj"
      },
      "source": [
        "Module 6 includes stones 46 through 47 and primarily practices the CI outcome. For those reading the OER text, we are in [Chapter 8](https://openstax.org/books/introductory-statistics/pages/8-introduction). \n",
        "\n",
        "Code Block 1: Loads Data\n",
        "\n",
        "Code Block 2: Converts data into a nice format for R. \n",
        "\n",
        "Code Block 3: Computes a confidence interval using a formula.\n",
        "\n",
        "Code Block 4: Bypasses bootstrapping a fake population and draws samples as if a fake population was bootstrapped. \n",
        "\n",
        "Code Block 5: Graphs the distribution from bootstrapping. \n",
        "\n",
        "Code Block 6: For when you know the proportion and need to build a sample off of that.\n",
        "\n"
      ]
    },
    {
      "cell_type": "code",
      "metadata": {
        "id": "xrI_yxK2dA0O",
        "colab": {
          "base_uri": "https://localhost:8080/"
        },
        "outputId": "d71d9269-964a-4055-b9a5-97f66a478237"
      },
      "source": [
        "### Code Block 1\n",
        "mydata = readRDS(url(\"https://github.com/matsonah/ClarkeStatsSpring2022/blob/main/data/saint_paul_stops.rds?raw=true\"))$citation_issued\n",
        "mydata = subset(mydata, !is.na(mydata))\n",
        "str(mydata)"
      ],
      "execution_count": 2,
      "outputs": [
        {
          "output_type": "stream",
          "name": "stdout",
          "text": [
            " logi [1:675153] FALSE FALSE FALSE FALSE FALSE FALSE ...\n"
          ]
        }
      ]
    },
    {
      "cell_type": "code",
      "source": [
        "### Code Block 2\n",
        "\n",
        "mydata = as.numeric(mydata)\n",
        "str(mydata)"
      ],
      "metadata": {
        "colab": {
          "base_uri": "https://localhost:8080/"
        },
        "id": "70rT7jgUhVQL",
        "outputId": "bc10f88f-ed56-4e83-9e91-8de7de57c696"
      },
      "execution_count": 3,
      "outputs": [
        {
          "output_type": "stream",
          "name": "stdout",
          "text": [
            " num [1:675153] 0 0 0 0 0 0 0 0 0 0 ...\n"
          ]
        }
      ]
    },
    {
      "cell_type": "code",
      "metadata": {
        "id": "jR8K67Y-qG7U",
        "colab": {
          "base_uri": "https://localhost:8080/"
        },
        "outputId": "0ac40c4b-d828-45e1-8ff1-53aba2b18e8d"
      },
      "source": [
        "### Code Block 3\n",
        "\n",
        "data = mydata \n",
        "conf.level = 0.95\n",
        "\n",
        "pi_hat= mean(data)   # assumes yes = 1 and no = 0\n",
        "sample.size = length(data)\n",
        "\n",
        "stdev=sd(data)\n",
        "z.star = qnorm(conf.level)\n",
        "margin.of.error = abs(z.star)*(stdev/sqrt(sample.size))\n",
        "\n",
        "lower.bound = max(pi_hat - margin.of.error,0)\n",
        "upper.bound = min(pi_hat + margin.of.error,1)\n",
        "\n",
        "cat(sep=\"\",\"At a confidence level of \", conf.level*100, \"%, the actual proportion of the population is between \", lower.bound,\" and \", upper.bound, \".\")"
      ],
      "execution_count": 4,
      "outputs": [
        {
          "output_type": "stream",
          "name": "stdout",
          "text": [
            "At a confidence level of 95%, the actual proportion of the population is between 0.137877 and 0.1392602."
          ]
        }
      ]
    },
    {
      "cell_type": "markdown",
      "metadata": {
        "id": "zh7dRxCjiWSl"
      },
      "source": [
        "Bypass the building of a fake population by drawing a sample with replacement. "
      ]
    },
    {
      "cell_type": "code",
      "metadata": {
        "id": "7xIejp4TWL1n",
        "colab": {
          "base_uri": "https://localhost:8080/"
        },
        "outputId": "09747591-86bf-4325-f77a-92896ab42017"
      },
      "source": [
        "### Code Block 4\n",
        "# Warning: If your sample size is big, this will take a long time to compile. If you give up waiting, you can reduce your sample.\n",
        "size = length(mydata) \n",
        "size = min(size,1000)     # Restricts to a smaller sample size. Comment out this line if you want to try allowing a larger sample size.\n",
        "\n",
        "data = sample(mydata,size)\n",
        "z_conf=0.95 \n",
        "\n",
        "\n",
        "alpha = 1-z_conf \n",
        "zsc=qnorm(z_conf + alpha/2)\n",
        "\n",
        "cat(\"Sample size:\", size, \"observational units.\\n\")\n",
        "\n",
        "test <- 0\n",
        "test_runs = 100000\n",
        "for(i in 1:test_runs){\n",
        "  test[i] = mean( sample(data,size,replace=TRUE))\n",
        "  }\n",
        "\n",
        "\n",
        "cat(sep=\"\",\"Original sample statistic is a proportion equal to \", mean(data),\".\\n\")\n",
        "\n",
        "Boot = data.frame(x=test)\n",
        "Boot_mean = mean(Boot$x)\n",
        "Boot_sd = sd(Boot$x)\n",
        "Boot_left=Boot_mean - zsc*Boot_sd\n",
        "Boot_right=Boot_mean + zsc*Boot_sd \n",
        "Boots=c(Boot_left,Boot_right)\n",
        "\n",
        "cat(sep=\"\", \"With a confidence level of \", z_conf*100, \"%, the actual population paramater is between \", Boot_left, \" and \", Boot_right, \".\\n\")\n"
      ],
      "execution_count": 5,
      "outputs": [
        {
          "output_type": "stream",
          "name": "stdout",
          "text": [
            "Sample size: 1000 observational units.\n",
            "Original sample statistic is a proportion equal to 0.131.\n",
            "With a confidence level of 95%, the actual population paramater is between 0.110041 and 0.1518775.\n"
          ]
        }
      ]
    },
    {
      "cell_type": "code",
      "metadata": {
        "id": "wLU_uOUKkYyf",
        "colab": {
          "base_uri": "https://localhost:8080/",
          "height": 437
        },
        "outputId": "7c2d0397-d767-4a82-adb9-9e7e81de01b9"
      },
      "source": [
        "### Code Block 5   \n",
        "# Requires running code block 4 first.\n",
        "\n",
        "library(ggplot2)\n",
        "\n",
        "# Fancy function defined to allow for shading. \n",
        "dnorm_sd <- function(x,numsd){\n",
        "  norm_sd <- dnorm(x,Boot_mean, Boot_sd)\n",
        "  lb = Boot_mean - numsd*Boot_sd  #left bound \n",
        "  rb = Boot_mean + numsd*Boot_sd  #right bound \n",
        "  # Force NA values outside interval x in [leftbound, rightbound]:\n",
        "  norm_sd[x <= lb | x >= rb] <- NA\n",
        "  return(norm_sd)   #return is the result of the function dnorm_sd \n",
        "}\n",
        "\n",
        "ggplot( Boot, aes(x)) + \n",
        "#  geom_histogram(aes(y=..density../(2*pi)),binwidth=0.005) + \n",
        "  geom_histogram(aes(y=..density..),binwidth=0.005) +   \n",
        "  stat_function( fun=dnorm,    args=list(mean=Boot_mean, sd=Boot_sd), col=\"green\", size=2) +\n",
        "  stat_function( fun=dnorm_sd, args=list(numsd=zsc),  geom=\"area\",  fill=\"green\", alpha=0.3 ) + \n",
        "  geom_vline( xintercept=Boots,  linetype=\"longdash\",  col=\"blue\", size=2) "
      ],
      "execution_count": 6,
      "outputs": [
        {
          "output_type": "display_data",
          "data": {
            "image/png": "[encoded data removed]",
            "text/plain": [
              "plot without title"
            ]
          },
          "metadata": {
            "image/png": {
              "width": 420,
              "height": 420
            }
          }
        }
      ]
    },
    {
      "cell_type": "code",
      "metadata": {
        "id": "y9pGBcHZj4WF",
        "colab": {
          "base_uri": "https://localhost:8080/"
        },
        "outputId": "8997e77d-24e7-4a02-9bf5-c0d1709f1d78"
      },
      "source": [
        "### Code Block 6 \n",
        "# Using a formula \n",
        "\n",
        "ci = t.test(data, conf.level=z_conf)\n",
        "me = (ci$conf.int[2] - ci$conf.int[1])/2 \n",
        "\n",
        "cat(sep=\"\", \"With a confidence level of \", z_conf*100, \"%, the actual population\", \n",
        "            \" paramater is between \", ci$conf.int[1], \" and \", ci$conf.int[2], \".\\n\")\n",
        "\n",
        "cat(sep=\"\", \"With a confidence level of \", z_conf*100, \"%, the actual population\", \n",
        "            \" paramater is approximately \", ci$estimate, \" with a margin \", \n",
        "            \"of error of \", me, \".\\n\") "
      ],
      "execution_count": 7,
      "outputs": [
        {
          "output_type": "stream",
          "name": "stdout",
          "text": [
            "With a confidence level of 95%, the actual population paramater is between 0.1100523 and 0.1519477.\n",
            "With a confidence level of 95%, the actual population paramater is approximately 0.131 with a margin of error of 0.02094775.\n"
          ]
        }
      ]
    }
  ]
}