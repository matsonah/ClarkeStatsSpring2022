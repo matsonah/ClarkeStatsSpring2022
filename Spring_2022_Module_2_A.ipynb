{
  "nbformat": 4,
  "nbformat_minor": 0,
  "metadata": {
    "colab": {
      "name": "Spring 2022 Module 2 A.ipynb",
      "provenance": [],
      "include_colab_link": true
    },
    "kernelspec": {
      "name": "ir",
      "display_name": "R"
    },
    "language_info": {
      "name": "R"
    }
  },
  "cells": [
    {
      "cell_type": "markdown",
      "metadata": {
        "id": "view-in-github",
        "colab_type": "text"
      },
      "source": [
        "<a href=\"https://colab.research.google.com/github/matsonah/ClarkeStatsSpring2022/blob/main/Spring_2022_Module_2_A.ipynb\" target=\"_parent\"><img src=\"https://colab.research.google.com/assets/colab-badge.svg\" alt=\"Open In Colab\"/></a>"
      ]
    },
    {
      "cell_type": "markdown",
      "metadata": {
        "id": "6oDIuaQJXbRg"
      },
      "source": [
        "Module 2: Descriptive Statistics\n",
        "\n",
        "Featured outcomes: \n",
        "\n",
        "> Language and Terminology (LT), Critical Thinking (CT), and \n",
        "\n",
        "> Numerical and Graphical Exploration (NGE) \n",
        "\n",
        "Targetted stones: 18-21 \n",
        "\n",
        "Stones 18 - 21 include identifying descriptive statistics and generating them.\n",
        "\n",
        "Chapter from text: [Chapter 2](https://openstax.org/books/introductory-statistics/pages/2-introduction)"
      ]
    },
    {
      "cell_type": "code",
      "metadata": {
        "id": "q-NSY0xBoF17",
        "colab": {
          "base_uri": "https://localhost:8080/",
          "height": 250
        },
        "outputId": "c124bf74-0d45-48bf-ec39-950a1f0e5918"
      },
      "source": [
        "### Code Block 1\n",
        "# This code block cleans the police data from Module 1. \n",
        "# Continue with police data\n",
        "urlfile=\"https://stacks.stanford.edu/file/druid:yg821jf8611/yg821jf8611_mn_saint_paul_2020_04_01.rds\"\n",
        "fulldata=readRDS(url(urlfile))\n",
        "\n",
        "# In the default data set, police_grid_number is <chr> when it should be <dbl>.\n",
        "# Personalize this code block by switching out the column name to match your \n",
        "# desired column name. (original column: police_grid_number)\n",
        "\n",
        "# Click play and then scroll to the right to see the column we added. \n",
        "fulldata$quant1 <- as.numeric(fulldata$police_grid_number)   \n",
        "head(fulldata,2)\n",
        "write.csv(fulldata$quant1,\"PGN.csv\", row.names=F)\n",
        "\n",
        "# Once your data is clean, you can call commands in R directly \n",
        "# with mean, median, or whatever summary command you like. \n",
        "# cat is short for concatenate, or string together. \n",
        "\n",
        "cat(sep=\"\",\"The median is \", median(fulldata$quant1), \", and the mean is \", mean(fulldata$quant1), \".\\n\\n\")"
      ],
      "execution_count": 1,
      "outputs": [
        {
          "output_type": "display_data",
          "data": {
            "text/plain": [
              "  raw_row_number date       time      lat      lng       police_grid_number\n",
              "1 93569          2001-01-01 4380 secs 44.98110 -93.02019 39                \n",
              "2 93570          2001-01-01 4440 secs 44.95936 -93.14155 87                \n",
              "  subject_age subject_race subject_sex type      citation_issued outcome\n",
              "1 NA          white        male        vehicular FALSE           NA     \n",
              "2 NA          black        male        vehicular FALSE           NA     \n",
              "  frisk_performed search_conducted search_vehicle raw_race_of_driver quant1\n",
              "1 FALSE           FALSE            FALSE          White              39    \n",
              "2  TRUE           FALSE            FALSE          Black              87    "
            ],
            "text/latex": "A tibble: 2 × 17\n\\begin{tabular}{r|lllllllllllllllll}\n  & raw\\_row\\_number & date & time & lat & lng & police\\_grid\\_number & subject\\_age & subject\\_race & subject\\_sex & type & citation\\_issued & outcome & frisk\\_performed & search\\_conducted & search\\_vehicle & raw\\_race\\_of\\_driver & quant1\\\\\n  & <chr> & <date> & <drtn> & <dbl> & <dbl> & <chr> & <int> & <fct> & <fct> & <fct> & <lgl> & <fct> & <lgl> & <lgl> & <lgl> & <chr> & <dbl>\\\\\n\\hline\n\t1 & 93569 & 2001-01-01 & 4380 secs & 44.98110 & -93.02019 & 39 & NA & white & male & vehicular & FALSE & NA & FALSE & FALSE & FALSE & White & 39\\\\\n\t2 & 93570 & 2001-01-01 & 4440 secs & 44.95936 & -93.14155 & 87 & NA & black & male & vehicular & FALSE & NA &  TRUE & FALSE & FALSE & Black & 87\\\\\n\\end{tabular}\n",
            "text/markdown": "\nA tibble: 2 × 17\n\n| <!--/--> | raw_row_number &lt;chr&gt; | date &lt;date&gt; | time &lt;drtn&gt; | lat &lt;dbl&gt; | lng &lt;dbl&gt; | police_grid_number &lt;chr&gt; | subject_age &lt;int&gt; | subject_race &lt;fct&gt; | subject_sex &lt;fct&gt; | type &lt;fct&gt; | citation_issued &lt;lgl&gt; | outcome &lt;fct&gt; | frisk_performed &lt;lgl&gt; | search_conducted &lt;lgl&gt; | search_vehicle &lt;lgl&gt; | raw_race_of_driver &lt;chr&gt; | quant1 &lt;dbl&gt; |\n|---|---|---|---|---|---|---|---|---|---|---|---|---|---|---|---|---|---|\n| 1 | 93569 | 2001-01-01 | 4380 secs | 44.98110 | -93.02019 | 39 | NA | white | male | vehicular | FALSE | NA | FALSE | FALSE | FALSE | White | 39 |\n| 2 | 93570 | 2001-01-01 | 4440 secs | 44.95936 | -93.14155 | 87 | NA | black | male | vehicular | FALSE | NA |  TRUE | FALSE | FALSE | Black | 87 |\n\n",
            "text/html": [
              "<table class=\"dataframe\">\n",
              "<caption>A tibble: 2 × 17</caption>\n",
              "<thead>\n",
              "\t<tr><th></th><th scope=col>raw_row_number</th><th scope=col>date</th><th scope=col>time</th><th scope=col>lat</th><th scope=col>lng</th><th scope=col>police_grid_number</th><th scope=col>subject_age</th><th scope=col>subject_race</th><th scope=col>subject_sex</th><th scope=col>type</th><th scope=col>citation_issued</th><th scope=col>outcome</th><th scope=col>frisk_performed</th><th scope=col>search_conducted</th><th scope=col>search_vehicle</th><th scope=col>raw_race_of_driver</th><th scope=col>quant1</th></tr>\n",
              "\t<tr><th></th><th scope=col>&lt;chr&gt;</th><th scope=col>&lt;date&gt;</th><th scope=col>&lt;drtn&gt;</th><th scope=col>&lt;dbl&gt;</th><th scope=col>&lt;dbl&gt;</th><th scope=col>&lt;chr&gt;</th><th scope=col>&lt;int&gt;</th><th scope=col>&lt;fct&gt;</th><th scope=col>&lt;fct&gt;</th><th scope=col>&lt;fct&gt;</th><th scope=col>&lt;lgl&gt;</th><th scope=col>&lt;fct&gt;</th><th scope=col>&lt;lgl&gt;</th><th scope=col>&lt;lgl&gt;</th><th scope=col>&lt;lgl&gt;</th><th scope=col>&lt;chr&gt;</th><th scope=col>&lt;dbl&gt;</th></tr>\n",
              "</thead>\n",
              "<tbody>\n",
              "\t<tr><th scope=row>1</th><td>93569</td><td>2001-01-01</td><td>4380 secs</td><td>44.98110</td><td>-93.02019</td><td>39</td><td>NA</td><td>white</td><td>male</td><td>vehicular</td><td>FALSE</td><td>NA</td><td>FALSE</td><td>FALSE</td><td>FALSE</td><td>White</td><td>39</td></tr>\n",
              "\t<tr><th scope=row>2</th><td>93570</td><td>2001-01-01</td><td>4440 secs</td><td>44.95936</td><td>-93.14155</td><td>87</td><td>NA</td><td>black</td><td>male</td><td>vehicular</td><td>FALSE</td><td>NA</td><td> TRUE</td><td>FALSE</td><td>FALSE</td><td>Black</td><td>87</td></tr>\n",
              "</tbody>\n",
              "</table>\n"
            ]
          },
          "metadata": {}
        },
        {
          "output_type": "stream",
          "name": "stdout",
          "text": [
            "The median is 90, and the mean is 99.98882.\n",
            "\n"
          ]
        }
      ]
    },
    {
      "cell_type": "code",
      "source": [
        "### Code Block 2\n",
        "# Same as above but with health data\n",
        "# This data already is stored as numbers and does not need to be cleaned as much. \n",
        "\n",
        "urlfile=\"https://raw.githubusercontent.com/matsonah/ClarkeStatsSpring2022/main/HEALTH_PROC_21012022204153412.csv\"\n",
        "hospdata=read.csv(url(urlfile))\n",
        "\n",
        "SCANS = subset(hospdata, hospdata$Measure==\"Per scanner\")\n",
        "head(SCANS,2)\n",
        "\n",
        "write.csv(SCANS$Value,\"Scans.csv\", row.names=F)\n",
        "\n",
        "cat(sep=\"\",\"The median is \", median(SCANS$Value), \", and the mean is \", mean(SCANS$Value), \".\\n\\n\")\n"
      ],
      "metadata": {
        "id": "W2Cw4UhaK9ro",
        "colab": {
          "base_uri": "https://localhost:8080/",
          "height": 195
        },
        "outputId": "02d6bfc0-8c08-4c3d-db65-372de385c8fe"
      },
      "execution_count": 3,
      "outputs": [
        {
          "output_type": "display_data",
          "data": {
            "text/plain": [
              "   VAR      Variable                         UNIT     Measure     COU\n",
              "23 DGTSCTEX Computed Tomography exams, total PERMACNB Per scanner USA\n",
              "24 DGTSCTEX Computed Tomography exams, total PERMACNB Per scanner USA\n",
              "   Country       YEA  Year Value  Flag.Codes Flags\n",
              "23 United States 2011 2011 6695.4 NA         NA   \n",
              "24 United States 2012 2012 5851.2 NA         NA   "
            ],
            "text/latex": "A data.frame: 2 × 11\n\\begin{tabular}{r|lllllllllll}\n  & VAR & Variable & UNIT & Measure & COU & Country & YEA & Year & Value & Flag.Codes & Flags\\\\\n  & <chr> & <chr> & <chr> & <chr> & <chr> & <chr> & <int> & <int> & <dbl> & <lgl> & <lgl>\\\\\n\\hline\n\t23 & DGTSCTEX & Computed Tomography exams, total & PERMACNB & Per scanner & USA & United States & 2011 & 2011 & 6695.4 & NA & NA\\\\\n\t24 & DGTSCTEX & Computed Tomography exams, total & PERMACNB & Per scanner & USA & United States & 2012 & 2012 & 5851.2 & NA & NA\\\\\n\\end{tabular}\n",
            "text/markdown": "\nA data.frame: 2 × 11\n\n| <!--/--> | VAR &lt;chr&gt; | Variable &lt;chr&gt; | UNIT &lt;chr&gt; | Measure &lt;chr&gt; | COU &lt;chr&gt; | Country &lt;chr&gt; | YEA &lt;int&gt; | Year &lt;int&gt; | Value &lt;dbl&gt; | Flag.Codes &lt;lgl&gt; | Flags &lt;lgl&gt; |\n|---|---|---|---|---|---|---|---|---|---|---|---|\n| 23 | DGTSCTEX | Computed Tomography exams, total | PERMACNB | Per scanner | USA | United States | 2011 | 2011 | 6695.4 | NA | NA |\n| 24 | DGTSCTEX | Computed Tomography exams, total | PERMACNB | Per scanner | USA | United States | 2012 | 2012 | 5851.2 | NA | NA |\n\n",
            "text/html": [
              "<table class=\"dataframe\">\n",
              "<caption>A data.frame: 2 × 11</caption>\n",
              "<thead>\n",
              "\t<tr><th></th><th scope=col>VAR</th><th scope=col>Variable</th><th scope=col>UNIT</th><th scope=col>Measure</th><th scope=col>COU</th><th scope=col>Country</th><th scope=col>YEA</th><th scope=col>Year</th><th scope=col>Value</th><th scope=col>Flag.Codes</th><th scope=col>Flags</th></tr>\n",
              "\t<tr><th></th><th scope=col>&lt;chr&gt;</th><th scope=col>&lt;chr&gt;</th><th scope=col>&lt;chr&gt;</th><th scope=col>&lt;chr&gt;</th><th scope=col>&lt;chr&gt;</th><th scope=col>&lt;chr&gt;</th><th scope=col>&lt;int&gt;</th><th scope=col>&lt;int&gt;</th><th scope=col>&lt;dbl&gt;</th><th scope=col>&lt;lgl&gt;</th><th scope=col>&lt;lgl&gt;</th></tr>\n",
              "</thead>\n",
              "<tbody>\n",
              "\t<tr><th scope=row>23</th><td>DGTSCTEX</td><td>Computed Tomography exams, total</td><td>PERMACNB</td><td>Per scanner</td><td>USA</td><td>United States</td><td>2011</td><td>2011</td><td>6695.4</td><td>NA</td><td>NA</td></tr>\n",
              "\t<tr><th scope=row>24</th><td>DGTSCTEX</td><td>Computed Tomography exams, total</td><td>PERMACNB</td><td>Per scanner</td><td>USA</td><td>United States</td><td>2012</td><td>2012</td><td>5851.2</td><td>NA</td><td>NA</td></tr>\n",
              "</tbody>\n",
              "</table>\n"
            ]
          },
          "metadata": {}
        },
        {
          "output_type": "stream",
          "name": "stdout",
          "text": [
            "The median is 3133.8, and the mean is 3623.383.\n",
            "\n"
          ]
        }
      ]
    },
    {
      "cell_type": "markdown",
      "metadata": {
        "id": "mRB3iZ3HoQ_m"
      },
      "source": [
        "You now have clean data as either Scans.csv or PGN.csv. If you have a green checkmark but no file, wait 30 seconds and then check the folder icon again. \n",
        "\n",
        "You have finished this file. \n",
        "\n",
        "Go to [Spring 2022 Module 2 B](https://colab.research.google.com/drive/1PeOIYYRf5AWyOYEv47r0zsPh3-gXffdE?usp=sharing) now. (Link not yet active.)\n"
      ]
    }
  ]
}