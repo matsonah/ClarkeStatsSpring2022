{
  "nbformat": 4,
  "nbformat_minor": 0,
  "metadata": {
    "colab": {
      "name": "Spring 2022 Module 2 A.ipynb",
      "provenance": [],
      "include_colab_link": true
    },
    "kernelspec": {
      "name": "ir",
      "display_name": "R"
    },
    "language_info": {
      "name": "R"
    }
  },
  "cells": [
    {
      "cell_type": "markdown",
      "metadata": {
        "id": "view-in-github",
        "colab_type": "text"
      },
      "source": [
        "<a href=\"https://colab.research.google.com/github/matsonah/ClarkeStatsSpring2022/blob/main/Spring_2022_Module_2_A.ipynb\" target=\"_parent\"><img src=\"https://colab.research.google.com/assets/colab-badge.svg\" alt=\"Open In Colab\"/></a>"
      ]
    },
    {
      "cell_type": "markdown",
      "metadata": {
        "id": "6oDIuaQJXbRg"
      },
      "source": [
        "Module 2: Descriptive Statistics\n",
        "\n",
        "Featured outcomes: \n",
        "\n",
        "> Language and Terminology (LT), Critical Thinking (CT), and \n",
        "\n",
        "> Numerical and Graphical Exploration (NGE) \n",
        "\n",
        "Targetted stones: 18-21\n",
        "\n",
        "Chapter from text: [Chapter 2](https://openstax.org/books/introductory-statistics/pages/2-introduction)"
      ]
    },
    {
      "cell_type": "code",
      "metadata": {
        "id": "q-NSY0xBoF17"
      },
      "source": [
        "### Code Block 1\n",
        "# This code block loads data into R for you to explore later. \n",
        "# Pick new data from the provided data sets or your own source. \n",
        "# Personalize this code by switching out the police data with your chosen data. \n",
        "\n",
        "urlfile=\"https://stacks.stanford.edu/file/druid:yg821jf8611/yg821jf8611_mn_saint_paul_2020_04_01.rds\"\n",
        "fulldata=readRDS(url(urlfile))\n"
      ],
      "execution_count": 1,
      "outputs": []
    },
    {
      "cell_type": "code",
      "source": [
        "### Code Block 2 \n",
        "# Requires a green check mark next to Code Block 1. \n",
        "\n",
        "# Stones 18 - 21 include identifying descriptive statistics and generating them. \n",
        "sample_size = 30     \n",
        "srs.sample <- fulldata[ \n",
        "                  sample( 1:nrow(fulldata),\n",
        "                          sample_size,\n",
        "                          replace = FALSE),\n",
        "                      ]\n",
        "head(srs.sample,2)"
      ],
      "metadata": {
        "colab": {
          "base_uri": "https://localhost:8080/",
          "height": 215
        },
        "id": "c6i0v43pyswb",
        "outputId": "3eb86429-24a4-4052-ce1c-4db4a9794056"
      },
      "execution_count": 22,
      "outputs": [
        {
          "output_type": "display_data",
          "data": {
            "text/plain": [
              "       raw_row_number date       time       lat      lng     \n",
              "345417 644612         2015-06-24 84360 secs 44.95206 -93.1619\n",
              "29189  508641         2011-01-16 64260 secs 44.93068 -93.0763\n",
              "       police_grid_number subject_age subject_race subject_sex type     \n",
              "345417 105                NA          white        female      vehicular\n",
              "29189  194                NA          hispanic     male        vehicular\n",
              "       citation_issued outcome frisk_performed search_conducted search_vehicle\n",
              "345417 FALSE           NA      FALSE           FALSE            FALSE         \n",
              "29189  FALSE           NA      FALSE           FALSE            FALSE         \n",
              "       raw_race_of_driver\n",
              "345417 White             \n",
              "29189  Hispanic          "
            ],
            "text/latex": "A tibble: 2 × 16\n\\begin{tabular}{r|llllllllllllllll}\n  & raw\\_row\\_number & date & time & lat & lng & police\\_grid\\_number & subject\\_age & subject\\_race & subject\\_sex & type & citation\\_issued & outcome & frisk\\_performed & search\\_conducted & search\\_vehicle & raw\\_race\\_of\\_driver\\\\\n  & <chr> & <date> & <drtn> & <dbl> & <dbl> & <chr> & <int> & <fct> & <fct> & <fct> & <lgl> & <fct> & <lgl> & <lgl> & <lgl> & <chr>\\\\\n\\hline\n\t345417 & 644612 & 2015-06-24 & 84360 secs & 44.95206 & -93.1619 & 105 & NA & white    & female & vehicular & FALSE & NA & FALSE & FALSE & FALSE & White   \\\\\n\t29189 & 508641 & 2011-01-16 & 64260 secs & 44.93068 & -93.0763 & 194 & NA & hispanic & male   & vehicular & FALSE & NA & FALSE & FALSE & FALSE & Hispanic\\\\\n\\end{tabular}\n",
            "text/markdown": "\nA tibble: 2 × 16\n\n| <!--/--> | raw_row_number &lt;chr&gt; | date &lt;date&gt; | time &lt;drtn&gt; | lat &lt;dbl&gt; | lng &lt;dbl&gt; | police_grid_number &lt;chr&gt; | subject_age &lt;int&gt; | subject_race &lt;fct&gt; | subject_sex &lt;fct&gt; | type &lt;fct&gt; | citation_issued &lt;lgl&gt; | outcome &lt;fct&gt; | frisk_performed &lt;lgl&gt; | search_conducted &lt;lgl&gt; | search_vehicle &lt;lgl&gt; | raw_race_of_driver &lt;chr&gt; |\n|---|---|---|---|---|---|---|---|---|---|---|---|---|---|---|---|---|\n| 345417 | 644612 | 2015-06-24 | 84360 secs | 44.95206 | -93.1619 | 105 | NA | white    | female | vehicular | FALSE | NA | FALSE | FALSE | FALSE | White    |\n| 29189 | 508641 | 2011-01-16 | 64260 secs | 44.93068 | -93.0763 | 194 | NA | hispanic | male   | vehicular | FALSE | NA | FALSE | FALSE | FALSE | Hispanic |\n\n",
            "text/html": [
              "<table class=\"dataframe\">\n",
              "<caption>A tibble: 2 × 16</caption>\n",
              "<thead>\n",
              "\t<tr><th></th><th scope=col>raw_row_number</th><th scope=col>date</th><th scope=col>time</th><th scope=col>lat</th><th scope=col>lng</th><th scope=col>police_grid_number</th><th scope=col>subject_age</th><th scope=col>subject_race</th><th scope=col>subject_sex</th><th scope=col>type</th><th scope=col>citation_issued</th><th scope=col>outcome</th><th scope=col>frisk_performed</th><th scope=col>search_conducted</th><th scope=col>search_vehicle</th><th scope=col>raw_race_of_driver</th></tr>\n",
              "\t<tr><th></th><th scope=col>&lt;chr&gt;</th><th scope=col>&lt;date&gt;</th><th scope=col>&lt;drtn&gt;</th><th scope=col>&lt;dbl&gt;</th><th scope=col>&lt;dbl&gt;</th><th scope=col>&lt;chr&gt;</th><th scope=col>&lt;int&gt;</th><th scope=col>&lt;fct&gt;</th><th scope=col>&lt;fct&gt;</th><th scope=col>&lt;fct&gt;</th><th scope=col>&lt;lgl&gt;</th><th scope=col>&lt;fct&gt;</th><th scope=col>&lt;lgl&gt;</th><th scope=col>&lt;lgl&gt;</th><th scope=col>&lt;lgl&gt;</th><th scope=col>&lt;chr&gt;</th></tr>\n",
              "</thead>\n",
              "<tbody>\n",
              "\t<tr><th scope=row>345417</th><td>644612</td><td>2015-06-24</td><td>84360 secs</td><td>44.95206</td><td>-93.1619</td><td>105</td><td>NA</td><td>white   </td><td>female</td><td>vehicular</td><td>FALSE</td><td>NA</td><td>FALSE</td><td>FALSE</td><td>FALSE</td><td>White   </td></tr>\n",
              "\t<tr><th scope=row>29189</th><td>508641</td><td>2011-01-16</td><td>64260 secs</td><td>44.93068</td><td>-93.0763</td><td>194</td><td>NA</td><td>hispanic</td><td>male  </td><td>vehicular</td><td>FALSE</td><td>NA</td><td>FALSE</td><td>FALSE</td><td>FALSE</td><td>Hispanic</td></tr>\n",
              "</tbody>\n",
              "</table>\n"
            ]
          },
          "metadata": {}
        }
      ]
    },
    {
      "cell_type": "code",
      "source": [
        "### Code Block 3 \n",
        "# Requires a green check mark next to Code Block 2. \n",
        "# In the default data set, police_grid_number is <chr> when it should be <dbl>.\n",
        "# Your data set might already have a column with a <dbl> data type. \n",
        "# Personalize this code block by switching out the column name to match your \n",
        "# desired column name. \n",
        "\n",
        "# Click play and then scroll to the right to see the column we added. \n",
        "\n",
        "srs.sample$quant1 <- as.numeric(srs.sample$police_grid_number)   \n",
        "head(srs.sample,2)\n"
      ],
      "metadata": {
        "colab": {
          "base_uri": "https://localhost:8080/",
          "height": 215
        },
        "id": "UQiWaADmys86",
        "outputId": "1fd718ca-713f-4d03-cb4c-4b21573ce5b5"
      },
      "execution_count": 25,
      "outputs": [
        {
          "output_type": "display_data",
          "data": {
            "text/plain": [
              "       raw_row_number date       time       lat      lng     \n",
              "345417 644612         2015-06-24 84360 secs 44.95206 -93.1619\n",
              "29189  508641         2011-01-16 64260 secs 44.93068 -93.0763\n",
              "       police_grid_number subject_age subject_race subject_sex type     \n",
              "345417 105                NA          white        female      vehicular\n",
              "29189  194                NA          hispanic     male        vehicular\n",
              "       citation_issued outcome frisk_performed search_conducted search_vehicle\n",
              "345417 FALSE           NA      FALSE           FALSE            FALSE         \n",
              "29189  FALSE           NA      FALSE           FALSE            FALSE         \n",
              "       raw_race_of_driver quant1\n",
              "345417 White              105   \n",
              "29189  Hispanic           194   "
            ],
            "text/latex": "A tibble: 2 × 17\n\\begin{tabular}{r|lllllllllllllllll}\n  & raw\\_row\\_number & date & time & lat & lng & police\\_grid\\_number & subject\\_age & subject\\_race & subject\\_sex & type & citation\\_issued & outcome & frisk\\_performed & search\\_conducted & search\\_vehicle & raw\\_race\\_of\\_driver & quant1\\\\\n  & <chr> & <date> & <drtn> & <dbl> & <dbl> & <chr> & <int> & <fct> & <fct> & <fct> & <lgl> & <fct> & <lgl> & <lgl> & <lgl> & <chr> & <dbl>\\\\\n\\hline\n\t345417 & 644612 & 2015-06-24 & 84360 secs & 44.95206 & -93.1619 & 105 & NA & white    & female & vehicular & FALSE & NA & FALSE & FALSE & FALSE & White    & 105\\\\\n\t29189 & 508641 & 2011-01-16 & 64260 secs & 44.93068 & -93.0763 & 194 & NA & hispanic & male   & vehicular & FALSE & NA & FALSE & FALSE & FALSE & Hispanic & 194\\\\\n\\end{tabular}\n",
            "text/markdown": "\nA tibble: 2 × 17\n\n| <!--/--> | raw_row_number &lt;chr&gt; | date &lt;date&gt; | time &lt;drtn&gt; | lat &lt;dbl&gt; | lng &lt;dbl&gt; | police_grid_number &lt;chr&gt; | subject_age &lt;int&gt; | subject_race &lt;fct&gt; | subject_sex &lt;fct&gt; | type &lt;fct&gt; | citation_issued &lt;lgl&gt; | outcome &lt;fct&gt; | frisk_performed &lt;lgl&gt; | search_conducted &lt;lgl&gt; | search_vehicle &lt;lgl&gt; | raw_race_of_driver &lt;chr&gt; | quant1 &lt;dbl&gt; |\n|---|---|---|---|---|---|---|---|---|---|---|---|---|---|---|---|---|---|\n| 345417 | 644612 | 2015-06-24 | 84360 secs | 44.95206 | -93.1619 | 105 | NA | white    | female | vehicular | FALSE | NA | FALSE | FALSE | FALSE | White    | 105 |\n| 29189 | 508641 | 2011-01-16 | 64260 secs | 44.93068 | -93.0763 | 194 | NA | hispanic | male   | vehicular | FALSE | NA | FALSE | FALSE | FALSE | Hispanic | 194 |\n\n",
            "text/html": [
              "<table class=\"dataframe\">\n",
              "<caption>A tibble: 2 × 17</caption>\n",
              "<thead>\n",
              "\t<tr><th></th><th scope=col>raw_row_number</th><th scope=col>date</th><th scope=col>time</th><th scope=col>lat</th><th scope=col>lng</th><th scope=col>police_grid_number</th><th scope=col>subject_age</th><th scope=col>subject_race</th><th scope=col>subject_sex</th><th scope=col>type</th><th scope=col>citation_issued</th><th scope=col>outcome</th><th scope=col>frisk_performed</th><th scope=col>search_conducted</th><th scope=col>search_vehicle</th><th scope=col>raw_race_of_driver</th><th scope=col>quant1</th></tr>\n",
              "\t<tr><th></th><th scope=col>&lt;chr&gt;</th><th scope=col>&lt;date&gt;</th><th scope=col>&lt;drtn&gt;</th><th scope=col>&lt;dbl&gt;</th><th scope=col>&lt;dbl&gt;</th><th scope=col>&lt;chr&gt;</th><th scope=col>&lt;int&gt;</th><th scope=col>&lt;fct&gt;</th><th scope=col>&lt;fct&gt;</th><th scope=col>&lt;fct&gt;</th><th scope=col>&lt;lgl&gt;</th><th scope=col>&lt;fct&gt;</th><th scope=col>&lt;lgl&gt;</th><th scope=col>&lt;lgl&gt;</th><th scope=col>&lt;lgl&gt;</th><th scope=col>&lt;chr&gt;</th><th scope=col>&lt;dbl&gt;</th></tr>\n",
              "</thead>\n",
              "<tbody>\n",
              "\t<tr><th scope=row>345417</th><td>644612</td><td>2015-06-24</td><td>84360 secs</td><td>44.95206</td><td>-93.1619</td><td>105</td><td>NA</td><td>white   </td><td>female</td><td>vehicular</td><td>FALSE</td><td>NA</td><td>FALSE</td><td>FALSE</td><td>FALSE</td><td>White   </td><td>105</td></tr>\n",
              "\t<tr><th scope=row>29189</th><td>508641</td><td>2011-01-16</td><td>64260 secs</td><td>44.93068</td><td>-93.0763</td><td>194</td><td>NA</td><td>hispanic</td><td>male  </td><td>vehicular</td><td>FALSE</td><td>NA</td><td>FALSE</td><td>FALSE</td><td>FALSE</td><td>Hispanic</td><td>194</td></tr>\n",
              "</tbody>\n",
              "</table>\n"
            ]
          },
          "metadata": {}
        }
      ]
    },
    {
      "cell_type": "code",
      "metadata": {
        "colab": {
          "base_uri": "https://localhost:8080/"
        },
        "id": "J15hu1IxoW00",
        "outputId": "83d155f5-ba76-4082-94f9-36de81223a43"
      },
      "source": [
        "### Code Block 4\n",
        "# Requires a green check mark next to Code Block 3.\n",
        "# cat is short for concatenate or string together. \n",
        "\n",
        "cat(sep=\"\",\"The median is \", median(srs.sample$quant1), \", and the mean is \", mean(srs.sample$quant1), \".\\n\\n\")\n"
      ],
      "execution_count": 27,
      "outputs": [
        {
          "output_type": "stream",
          "name": "stdout",
          "text": [
            "The median is 87.5, and the mean is 100.7333.\n",
            "\n"
          ]
        }
      ]
    },
    {
      "cell_type": "markdown",
      "metadata": {
        "id": "mRB3iZ3HoQ_m"
      },
      "source": [
        "In Code Block 1, you started a list of questions after your page header. You should have at least three by now. Find out the answers to your questions (ask around, search the Internet, ...). Write down the answers. Either take a picture of your questions and answers or save your document as a PDF. You need access to the file you just created (photo or PDF) before you proceed to the next step. \n",
        "\n",
        "**Stone claiming:**\n",
        "\n",
        "> Go to Teams. \n",
        "\n",
        ">Find our class Team. \n",
        "\n",
        ">Find the Assignments tab. \n",
        "\n",
        ">Find the Week 1 Self Claim 1 assignment. \n",
        "\n",
        "> Attach your file to the assignment and click \"Turn In\"\n",
        "\n",
        "You have finished this file. Go to [Spring 2022 Module 1 B](https://colab.research.google.com/drive/1PeOIYYRf5AWyOYEv47r0zsPh3-gXffdE?usp=sharing) now.\n"
      ]
    }
  ]
}