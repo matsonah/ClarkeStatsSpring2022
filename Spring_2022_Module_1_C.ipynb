{
  "nbformat": 4,
  "nbformat_minor": 0,
  "metadata": {
    "colab": {
      "name": "Spring 2022 Module 1 C.ipynb",
      "provenance": [],
      "authorship_tag": "ABX9TyNp5wgo28x9bSjkDL5R8/Ux",
      "include_colab_link": true
    },
    "kernelspec": {
      "name": "ir",
      "display_name": "R"
    },
    "language_info": {
      "name": "R"
    }
  },
  "cells": [
    {
      "cell_type": "markdown",
      "metadata": {
        "id": "view-in-github",
        "colab_type": "text"
      },
      "source": [
        "<a href=\"https://colab.research.google.com/github/matsonah/ClarkeStatsSpring2022/blob/main/Spring_2022_Module_1_C.ipynb\" target=\"_parent\"><img src=\"https://colab.research.google.com/assets/colab-badge.svg\" alt=\"Open In Colab\"/></a>"
      ]
    },
    {
      "cell_type": "code",
      "execution_count": 7,
      "metadata": {
        "colab": {
          "base_uri": "https://localhost:8080/"
        },
        "id": "yr_41IfQulkQ",
        "outputId": "fe33cc38-2824-44df-f61f-dadeb3b9ed66"
      },
      "outputs": [
        {
          "output_type": "stream",
          "name": "stdout",
          "text": [
            "Investigate word number 13 on line 1 of the page."
          ]
        }
      ],
      "source": [
        "line = sample(1:10,1)\n",
        "word = sample(1:15,1)\n",
        "cat(\"Investigate word number\", word, \"on line\", line, \"of the page.\")"
      ]
    }
  ]
}