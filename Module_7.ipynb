{
  "nbformat": 4,
  "nbformat_minor": 0,
  "metadata": {
    "colab": {
      "name": "Module 7.ipynb",
      "provenance": [],
      "include_colab_link": true
    },
    "kernelspec": {
      "name": "ir",
      "display_name": "R"
    },
    "language_info": {
      "name": "R"
    }
  },
  "cells": [
    {
      "cell_type": "markdown",
      "metadata": {
        "id": "view-in-github",
        "colab_type": "text"
      },
      "source": [
        "<a href=\"https://colab.research.google.com/github/matsonah/ClarkeStatsSpring2022/blob/main/Module_7.ipynb\" target=\"_parent\"><img src=\"https://colab.research.google.com/assets/colab-badge.svg\" alt=\"Open In Colab\"/></a>"
      ]
    },
    {
      "cell_type": "markdown",
      "metadata": {
        "id": "94aR5v7Bmwtj"
      },
      "source": [
        "Module 7 includes stones 45 through 46 and primarily practices outcome 7. For those reading the OER text, we are in [Chapter 8](https://openstax.org/books/introductory-statistics/pages/8-introduction). \n",
        "\n",
        "Code Block 1: Prepares Data. Exports \"Mulan Sample.csv\" for editing in Excel. \n",
        "\n",
        "Edit Mulan Sample.csv to include Ethnicity for each observational unit in the sample. Save the file as \"Mulan Sample with Ethnicity.csv\". \n",
        "\n",
        "Code Block 2: Checks that \"Mulan Sample with Ethnicity.csv\" matches the structure we need. \n",
        "\n",
        "Code Block 3: Computes a confidence interval using a formula.\n",
        "\n",
        "Code Block 4: Bootstraps a fake population for sampling. \n",
        "\n",
        "Code Block 5: Bypasses bootstrapping a fake population and draws samples as if a fake population was bootstrapped. \n",
        "\n",
        "Code Block 6: Graphs the distribution from bootstrapping. \n",
        "\n",
        "Code Block 7: For when you know the proportion and need to build a sample off of that.\n",
        "\n",
        "Code Block 8: For multiple proportions\n"
      ]
    },
    {
      "cell_type": "code",
      "metadata": {
        "id": "nUP5cuUOmgFl"
      },
      "source": [
        "### Code Block 1\n",
        "# Gather entire cast and crew from 2020 Mulan\n",
        "Mulan <- read.csv(\"Mulan Cast and Crew.csv\")\n",
        "\n",
        "Mulan.sample <- 0 \n",
        "\n",
        "# Generate a sample of 30 people. \n",
        "Mulan.sample = data.frame(sort(sample(Mulan$Cast.and.Crew, 30, replace=F)))\n",
        "Mulan.sample[1,2]=\"0\"\n",
        "names(Mulan.sample)=c(\"cnc\",\"ethnicity\")\n",
        "str(Mulan.sample)\n",
        "\n",
        "# Put it in a CSV for easy manipulation. \n",
        "write.csv(Mulan.sample, \"Mulan Sample.csv\")\n",
        "\n",
        "# Now open the CSV and add ethnicity data to it. Was the person's ethnicity in alignment with the Mulan story? (yes = 1, no = 0)\n"
      ],
      "execution_count": null,
      "outputs": []
    },
    {
      "cell_type": "code",
      "metadata": {
        "id": "xrI_yxK2dA0O"
      },
      "source": [
        "### Code Block 2\n",
        "Mulan.ethnicity = read.csv(\"Mulan Sample with Ethnicity.csv\")\n",
        "str(Mulan.ethnicity)"
      ],
      "execution_count": null,
      "outputs": []
    },
    {
      "cell_type": "code",
      "metadata": {
        "id": "jR8K67Y-qG7U",
        "colab": {
          "base_uri": "https://localhost:8080/"
        },
        "outputId": "ae835128-cf02-4c7f-b68a-8d61f396f6db"
      },
      "source": [
        "### Code Block 3\n",
        "#Mulan.ethnicity = read.csv(\"Mulan Sample with Ethnicity.csv\")\n",
        "#data = Mulan.ethnicity$yes.no..1.0.\n",
        "\n",
        "prop = 5/8\n",
        "total = 80 \n",
        "\n",
        "data = rep(c(1,0), c(prop*total, (1-prop)*total))\n",
        "\n",
        "pi_hat= mean(data)   # assumes yes = 1 and no = 0\n",
        "sample.size = length(data)\n",
        "\n",
        "stdev=sqrt(pi_hat*(1-pi_hat)/sample.size)\n",
        "conf.level = 0.95\n",
        "\n",
        "z.star = qnorm(conf.level) # one possibility\n",
        "margin.of.error = abs(z.star)*(stdev)\n",
        "\n",
        "lower.bound = max(pi_hat - margin.of.error,0)\n",
        "upper.bound = min(pi_hat + margin.of.error,1)\n",
        "\n",
        "cat(sep=\"\",\"At a confidence level of \", conf.level*100, \"%, the actual proportion of the population is between \", lower.bound,\" and \", upper.bound, \".\")"
      ],
      "execution_count": null,
      "outputs": [
        {
          "output_type": "stream",
          "name": "stdout",
          "text": [
            "At a confidence level of 95%, the actual proportion of the population is between 0.5359697 and 0.7140303."
          ]
        }
      ]
    },
    {
      "cell_type": "markdown",
      "metadata": {
        "id": "lkmNt66H5PPS"
      },
      "source": [
        "Bootstrap a bigger population.\n"
      ]
    },
    {
      "cell_type": "code",
      "metadata": {
        "id": "1WRlvP7Wysep",
        "colab": {
          "base_uri": "https://localhost:8080/"
        },
        "outputId": "7276cf1b-a697-4a42-da48-8210cdbd5880"
      },
      "source": [
        "### Code Block 4\n",
        "#data<-0\n",
        "\n",
        "#Mulan.ethnicity = read.csv(\"Mulan Sample with Ethnicity.csv\")\n",
        "#data = Mulan.ethnicity$yes.no..1.0.\n",
        "\n",
        "\n",
        "z_conf=0.95 \n",
        "alpha = 1-z_conf \n",
        "zsc=qnorm(z_conf + alpha/2)\n",
        "\n",
        "\n",
        "size=length(data)\n",
        "cat(\"Sample size:\", size, \"observational units.\\n\")\n",
        "\n",
        "bootdata=cbind(data,data)\n",
        "i=0\n",
        "for(i in 1:10){\n",
        "  bootdata=cbind(bootdata,bootdata)\n",
        "}\n",
        "\n",
        "cat(\"Bootstrapped population size:\", length(bootdata), \"observational units.\\n\")\n",
        "\n",
        "test <- 0\n",
        "test_runs = 100000\n",
        "for(i in 1:test_runs){ \n",
        "  test[i] = mean(sample(bootdata, size, replace=FALSE))\n",
        "}\n",
        "\n",
        "cat(sep=\"\",\"Bootstrap population paramater is a proportion equal to \", mean(test), \".\\n\")\n",
        "cat(sep=\"\",\"Original sample statistic is a proportion equal to \", mean(data),\".\\n\")\n",
        "\n",
        "Boot = data.frame(x=test)\n",
        "Boot_mean = mean(Boot$x)\n",
        "Boot_sd = sd(Boot$x)\n",
        "Boot_left=Boot_mean - zsc*Boot_sd\n",
        "Boot_right=Boot_mean + zsc*Boot_sd \n",
        "Boots=c(Boot_left,Boot_right)\n",
        "\n",
        "cat(sep=\"\", \"With a confidence level of \", z_conf*100, \"%, the actual population paramater is between \", Boot_left, \" and \", Boot_right, \".\\n\")"
      ],
      "execution_count": null,
      "outputs": [
        {
          "output_type": "stream",
          "name": "stdout",
          "text": [
            "Sample size: 1000 observational units.\n",
            "Bootstrapped population size: 2048000 observational units.\n",
            "Bootstrap population paramater is a proportion equal to 0.7500037.\n",
            "Original sample statistic is a proportion equal to 0.75.\n",
            "With a confidence level of 95%, the actual population paramater is between 0.7232431 and 0.7767643.\n"
          ]
        }
      ]
    },
    {
      "cell_type": "markdown",
      "metadata": {
        "id": "zh7dRxCjiWSl"
      },
      "source": [
        "Bypass the building of a fake population by drawing a sample with replacement. "
      ]
    },
    {
      "cell_type": "code",
      "metadata": {
        "id": "7xIejp4TWL1n",
        "colab": {
          "base_uri": "https://localhost:8080/"
        },
        "outputId": "b2e07944-1d0f-4056-c9cf-52173872ce1c"
      },
      "source": [
        "### Code Block 5\n",
        "\n",
        "#data<-0\n",
        "\n",
        "#Mulan.ethnicity = read.csv(\"Mulan Sample with Ethnicity.csv\")\n",
        "#data = Mulan.ethnicity$yes.no..1.0.\n",
        "\n",
        "\n",
        "z_conf=0.95 \n",
        "alpha = 1-z_conf \n",
        "zsc=qnorm(z_conf + alpha/2)\n",
        "\n",
        "size=length(data)\n",
        "cat(\"Sample size:\", size, \"observational units.\\n\")\n",
        "\n",
        "test <- 0\n",
        "test_runs = 100000\n",
        "for(i in 1:test_runs){\n",
        "  test[i] = mean( sample(data,size,replace=TRUE))\n",
        "  }\n",
        "\n",
        "\n",
        "cat(sep=\"\",\"Original sample statistic is a proportion equal to \", mean(data),\".\\n\")\n",
        "\n",
        "Boot = data.frame(x=test)\n",
        "Boot_mean = mean(Boot$x)\n",
        "Boot_sd = sd(Boot$x)\n",
        "Boot_left=Boot_mean - zsc*Boot_sd\n",
        "Boot_right=Boot_mean + zsc*Boot_sd \n",
        "Boots=c(Boot_left,Boot_right)\n",
        "\n",
        "cat(sep=\"\", \"With a confidence level of \", z_conf*100, \"%, the actual population paramater is between \", Boot_left, \" and \", Boot_right, \".\\n\")\n"
      ],
      "execution_count": null,
      "outputs": [
        {
          "output_type": "stream",
          "name": "stdout",
          "text": [
            "Sample size: 1000 observational units.\n",
            "Original sample statistic is a proportion equal to 0.75.\n",
            "With a confidence level of 95%, the actual population paramater is between 0.7230471 and 0.7768082.\n"
          ]
        }
      ]
    },
    {
      "cell_type": "code",
      "metadata": {
        "id": "wLU_uOUKkYyf"
      },
      "source": [
        "### Code Block 6   \n",
        "# Requires running either block 4 or block 5 first.\n",
        "\n",
        "library(ggplot2)\n",
        "\n",
        "# Fancy function defined to allow for shading. \n",
        "dnorm_sd <- function(x,numsd){\n",
        "  norm_sd <- dnorm(x,Boot_mean, Boot_sd)\n",
        "  lb = Boot_mean - numsd*Boot_sd  #left bound \n",
        "  rb = Boot_mean + numsd*Boot_sd  #right bound \n",
        "  # Force NA values outside interval x in [leftbound, rightbound]:\n",
        "  norm_sd[x <= lb | x >= rb] <- NA\n",
        "  return(norm_sd)   #return is the result of the function dnorm_sd \n",
        "}\n",
        "\n",
        "ggplot( Boot, aes(x)) + \n",
        "  geom_histogram(aes(y=..density../(2*pi)),binwidth=0.005) + \n",
        "  stat_function( fun=dnorm,    args=list(mean=Boot_mean, sd=Boot_sd), col=\"green\", size=2) +\n",
        "  stat_function( fun=dnorm_sd, args=list(numsd=zsc),  geom=\"area\",  fill=\"green\", alpha=0.3 ) + \n",
        "  geom_vline( xintercept=Boots,  linetype=\"longdash\",  col=\"blue\", size=2) "
      ],
      "execution_count": null,
      "outputs": []
    },
    {
      "cell_type": "code",
      "metadata": {
        "id": "y9pGBcHZj4WF"
      },
      "source": [
        "### Code Block 7\n",
        "# Can be run independently of all prior code blocks. \n",
        "# For proportions. \n",
        "\n",
        "\n",
        "sample_count= 1000\n",
        "sample_size = 1250\n",
        "sample_complement = sample_size-sample_count \n",
        "\n",
        "data=rep(c(1,0),c(sample_count,sample_complement))   # repeats 1 sample_count times and 0 sample_complement times. \n",
        "\n",
        "z_conf=0.997 \n",
        "alpha = 1-z_conf \n",
        "zsc=qnorm(z_conf + alpha/2)\n",
        "\n",
        "size=length(data)\n",
        "cat(\"Sample size:\", size, \"observational units.\\n\")\n",
        "\n",
        "test <- 0\n",
        "test_runs = 100000\n",
        "for(i in 1:test_runs){\n",
        "  test[i] = mean( sample(data,size,replace=TRUE))\n",
        "  }\n",
        "\n",
        "\n",
        "cat(sep=\"\",\"Original sample statistic is a proportion equal to \", mean(data),\".\\n\")\n",
        "\n",
        "Boot = data.frame(x=test)\n",
        "Boot_mean = mean(Boot$x)\n",
        "Boot_sd = sd(Boot$x)\n",
        "Boot_left=Boot_mean - zsc*Boot_sd\n",
        "Boot_right=Boot_mean + zsc*Boot_sd \n",
        "Boots=c(Boot_left,Boot_right)\n",
        "\n",
        "cat(sep=\"\", \"With a confidence level of \", z_conf*100, \"%, the actual population paramater is between \", Boot_left, \" and \", Boot_right, \".\\n\")\n"
      ],
      "execution_count": null,
      "outputs": []
    },
    {
      "cell_type": "code",
      "metadata": {
        "colab": {
          "base_uri": "https://localhost:8080/"
        },
        "id": "VRBajEh3pG9u",
        "outputId": "c0b47329-d72b-4dd4-cd0d-9e2ba92ffefe"
      },
      "source": [
        "### Code Block 8\n",
        "# Can be run independently of all prior code blocks. \n",
        "# For two proportions. \n",
        "\n",
        "\n",
        "sample1_count= 100\n",
        "sample1_size = 125\n",
        "sample1_complement = sample1_size-sample1_count \n",
        "\n",
        "data1=rep(c(1,0),c(sample1_count,sample1_complement))   # repeats 1 sample_count times and 0 sample_complement times. \n",
        "\n",
        "sample2_count= 80\n",
        "sample2_size = 120\n",
        "sample2_complement = sample2_size-sample2_count \n",
        "\n",
        "data2=rep(c(1,0),c(sample2_count,sample2_complement))   # repeats 1 sample_count times and 0 sample_complement times. \n",
        "\n",
        "\n",
        "z_conf=0.997 \n",
        "alpha = 1-z_conf \n",
        "zsc=qnorm(z_conf + alpha/2)\n",
        "\n",
        "test <- 0\n",
        "test_runs = 100000\n",
        "for(i in 1:test_runs){\n",
        "  test[i] = mean( sample(data1,sample1_size,replace=TRUE)) / mean( sample(data2,sample2_size,replace=TRUE))\n",
        "  }\n",
        "\n",
        "Boot = data.frame(x=test)\n",
        "Boot_mean = mean(Boot$x)\n",
        "Boot_sd = sd(Boot$x)\n",
        "Boot_left=Boot_mean - zsc*Boot_sd\n",
        "Boot_right=Boot_mean + zsc*Boot_sd \n",
        "Boots=c(Boot_left,Boot_right)\n",
        "\n",
        "cat(sep=\"\", \"With a confidence level of \", z_conf*100, \"%, the actual differenece in population parameters is between \", Boot_left, \" and \", Boot_right, \".\\n\")"
      ],
      "execution_count": null,
      "outputs": [
        {
          "output_type": "stream",
          "name": "stdout",
          "text": [
            "With a confidence level of 99.7%, the actual differenece in population parameters is between -0.03279804 and 0.2996421.\n"
          ]
        }
      ]
    }
  ]
}