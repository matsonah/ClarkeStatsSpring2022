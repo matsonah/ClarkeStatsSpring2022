{
  "nbformat": 4,
  "nbformat_minor": 0,
  "metadata": {
    "colab": {
      "name": "Spring 2022 Module 1 A.ipynb",
      "provenance": [],
      "include_colab_link": true
    },
    "kernelspec": {
      "name": "ir",
      "display_name": "R"
    },
    "language_info": {
      "name": "R"
    }
  },
  "cells": [
    {
      "cell_type": "markdown",
      "metadata": {
        "id": "view-in-github",
        "colab_type": "text"
      },
      "source": [
        "<a href=\"https://colab.research.google.com/github/matsonah/ClarkeStatsSpring2022/blob/main/Spring_2022_Module_1_A.ipynb\" target=\"_parent\"><img src=\"https://colab.research.google.com/assets/colab-badge.svg\" alt=\"Open In Colab\"/></a>"
      ]
    },
    {
      "cell_type": "markdown",
      "metadata": {
        "id": "6oDIuaQJXbRg"
      },
      "source": [
        "Module 1: Sampling and Data\n",
        "\n",
        "Featured outcomes: \n",
        "\n",
        "> Common Good (CG), Professional Behavior (PB),\n",
        "\n",
        "> Language and Terminology (LT), Critical Thinking (CT), and \n",
        "\n",
        "> Fundamental Ideas of Sampling (FIS) \n",
        "\n",
        "Targetted stones: 8-17\n",
        "\n",
        "Chapter from text: [Chapter 1 Section 2](https://openstax.org/books/introductory-statistics/pages/1-2-data-sampling-and-variation-in-data-and-sampling)"
      ]
    },
    {
      "cell_type": "code",
      "metadata": {
        "colab": {
          "base_uri": "https://localhost:8080/",
          "height": 362
        },
        "id": "q-NSY0xBoF17",
        "outputId": "26e41203-c664-4865-9553-860dd86af3bb"
      },
      "source": [
        "### Code Block 1\n",
        "# This code block loads data into R for you to explore later. \n",
        "\n",
        "# Read the description for Stone 1. Get out a piece of paper or start\n",
        "# a document on your computer for you to record your questions as you work \n",
        "# through this R program. \n",
        "\n",
        "# At the top of the page, write your name and: \"Week 1, Self Claim 1\"\n",
        "# On the next line, write: \"Stone 1, Outcome CT\" \n",
        "\n",
        "# The rest of the page is for your questions. \n",
        "# When you have three questions articulated that \n",
        "# help you figure out what is going on, you can claim them for Stone 1. \n",
        "\n",
        "# urlfile is a temporary name so you can paste a website there and not have to \n",
        "# paste it in the middle of other code. Anytime you want the full website, you \n",
        "# can just type urlfile to have R remember the website. \n",
        "urlfile=\"https://stacks.stanford.edu/file/druid:yg821jf8611/yg821jf8611_mn_saint_paul_2020_04_01.rds\"\n",
        "\n",
        "# This line of code loads the RDS data set from the website stored in urlfile \n",
        "# and saves that data as fulldata. Imagine R saving the data as a really\n",
        "# sophisticated yet easy to access spreadsheet. \n",
        "# Anytime we want to access the full data set we can just type fulldata. \n",
        "# Typically, we want pieces of it though and not the full thing. \n",
        "fulldata=readRDS(url(urlfile))\n",
        "\n",
        "\n",
        "# This snippet of code prints out the first five rows read by R.\n",
        "head(fulldata, 5)\n",
        "\n",
        "# Click the play button on the left. When you see a green checkmark, \n",
        "# the program has compiled correctly. \n"
      ],
      "execution_count": null,
      "outputs": [
        {
          "output_type": "display_data",
          "data": {
            "text/plain": [
              "  raw_row_number date       time       lat      lng       police_grid_number\n",
              "1 93569          2001-01-01  4380 secs 44.98110 -93.02019 39                \n",
              "2 93570          2001-01-01  4440 secs 44.95936 -93.14155 87                \n",
              "3 93571          2001-01-01  6420 secs 44.95916 -93.07182 94                \n",
              "4 93572          2001-01-01  8520 secs 44.96015 -93.09198 92                \n",
              "5 93581          2001-01-01 54060 secs 44.95936 -93.14155 87                \n",
              "  subject_age subject_race           subject_sex type      citation_issued\n",
              "1 NA          white                  male        vehicular FALSE          \n",
              "2 NA          black                  male        vehicular FALSE          \n",
              "3 NA          hispanic               male        vehicular FALSE          \n",
              "4 NA          asian/pacific islander male        vehicular FALSE          \n",
              "5 NA          black                  male        vehicular FALSE          \n",
              "  outcome frisk_performed search_conducted search_vehicle raw_race_of_driver\n",
              "1 NA      FALSE           FALSE            FALSE          White             \n",
              "2 NA       TRUE           FALSE            FALSE          Black             \n",
              "3 NA      FALSE           FALSE            FALSE          Hispanic          \n",
              "4 NA       TRUE            TRUE             TRUE          Asian             \n",
              "5 NA       TRUE            TRUE             TRUE          Black             "
            ],
            "text/latex": "A tibble: 5 × 16\n\\begin{tabular}{r|llllllllllllllll}\n  & raw\\_row\\_number & date & time & lat & lng & police\\_grid\\_number & subject\\_age & subject\\_race & subject\\_sex & type & citation\\_issued & outcome & frisk\\_performed & search\\_conducted & search\\_vehicle & raw\\_race\\_of\\_driver\\\\\n  & <chr> & <date> & <drtn> & <dbl> & <dbl> & <chr> & <int> & <fct> & <fct> & <fct> & <lgl> & <fct> & <lgl> & <lgl> & <lgl> & <chr>\\\\\n\\hline\n\t1 & 93569 & 2001-01-01 &  4380 secs & 44.98110 & -93.02019 & 39 & NA & white                  & male & vehicular & FALSE & NA & FALSE & FALSE & FALSE & White   \\\\\n\t2 & 93570 & 2001-01-01 &  4440 secs & 44.95936 & -93.14155 & 87 & NA & black                  & male & vehicular & FALSE & NA &  TRUE & FALSE & FALSE & Black   \\\\\n\t3 & 93571 & 2001-01-01 &  6420 secs & 44.95916 & -93.07182 & 94 & NA & hispanic               & male & vehicular & FALSE & NA & FALSE & FALSE & FALSE & Hispanic\\\\\n\t4 & 93572 & 2001-01-01 &  8520 secs & 44.96015 & -93.09198 & 92 & NA & asian/pacific islander & male & vehicular & FALSE & NA &  TRUE &  TRUE &  TRUE & Asian   \\\\\n\t5 & 93581 & 2001-01-01 & 54060 secs & 44.95936 & -93.14155 & 87 & NA & black                  & male & vehicular & FALSE & NA &  TRUE &  TRUE &  TRUE & Black   \\\\\n\\end{tabular}\n",
            "text/markdown": "\nA tibble: 5 × 16\n\n| <!--/--> | raw_row_number &lt;chr&gt; | date &lt;date&gt; | time &lt;drtn&gt; | lat &lt;dbl&gt; | lng &lt;dbl&gt; | police_grid_number &lt;chr&gt; | subject_age &lt;int&gt; | subject_race &lt;fct&gt; | subject_sex &lt;fct&gt; | type &lt;fct&gt; | citation_issued &lt;lgl&gt; | outcome &lt;fct&gt; | frisk_performed &lt;lgl&gt; | search_conducted &lt;lgl&gt; | search_vehicle &lt;lgl&gt; | raw_race_of_driver &lt;chr&gt; |\n|---|---|---|---|---|---|---|---|---|---|---|---|---|---|---|---|---|\n| 1 | 93569 | 2001-01-01 |  4380 secs | 44.98110 | -93.02019 | 39 | NA | white                  | male | vehicular | FALSE | NA | FALSE | FALSE | FALSE | White    |\n| 2 | 93570 | 2001-01-01 |  4440 secs | 44.95936 | -93.14155 | 87 | NA | black                  | male | vehicular | FALSE | NA |  TRUE | FALSE | FALSE | Black    |\n| 3 | 93571 | 2001-01-01 |  6420 secs | 44.95916 | -93.07182 | 94 | NA | hispanic               | male | vehicular | FALSE | NA | FALSE | FALSE | FALSE | Hispanic |\n| 4 | 93572 | 2001-01-01 |  8520 secs | 44.96015 | -93.09198 | 92 | NA | asian/pacific islander | male | vehicular | FALSE | NA |  TRUE |  TRUE |  TRUE | Asian    |\n| 5 | 93581 | 2001-01-01 | 54060 secs | 44.95936 | -93.14155 | 87 | NA | black                  | male | vehicular | FALSE | NA |  TRUE |  TRUE |  TRUE | Black    |\n\n",
            "text/html": [
              "<table class=\"dataframe\">\n",
              "<caption>A tibble: 5 × 16</caption>\n",
              "<thead>\n",
              "\t<tr><th></th><th scope=col>raw_row_number</th><th scope=col>date</th><th scope=col>time</th><th scope=col>lat</th><th scope=col>lng</th><th scope=col>police_grid_number</th><th scope=col>subject_age</th><th scope=col>subject_race</th><th scope=col>subject_sex</th><th scope=col>type</th><th scope=col>citation_issued</th><th scope=col>outcome</th><th scope=col>frisk_performed</th><th scope=col>search_conducted</th><th scope=col>search_vehicle</th><th scope=col>raw_race_of_driver</th></tr>\n",
              "\t<tr><th></th><th scope=col>&lt;chr&gt;</th><th scope=col>&lt;date&gt;</th><th scope=col>&lt;drtn&gt;</th><th scope=col>&lt;dbl&gt;</th><th scope=col>&lt;dbl&gt;</th><th scope=col>&lt;chr&gt;</th><th scope=col>&lt;int&gt;</th><th scope=col>&lt;fct&gt;</th><th scope=col>&lt;fct&gt;</th><th scope=col>&lt;fct&gt;</th><th scope=col>&lt;lgl&gt;</th><th scope=col>&lt;fct&gt;</th><th scope=col>&lt;lgl&gt;</th><th scope=col>&lt;lgl&gt;</th><th scope=col>&lt;lgl&gt;</th><th scope=col>&lt;chr&gt;</th></tr>\n",
              "</thead>\n",
              "<tbody>\n",
              "\t<tr><th scope=row>1</th><td>93569</td><td>2001-01-01</td><td> 4380 secs</td><td>44.98110</td><td>-93.02019</td><td>39</td><td>NA</td><td>white                 </td><td>male</td><td>vehicular</td><td>FALSE</td><td>NA</td><td>FALSE</td><td>FALSE</td><td>FALSE</td><td>White   </td></tr>\n",
              "\t<tr><th scope=row>2</th><td>93570</td><td>2001-01-01</td><td> 4440 secs</td><td>44.95936</td><td>-93.14155</td><td>87</td><td>NA</td><td>black                 </td><td>male</td><td>vehicular</td><td>FALSE</td><td>NA</td><td> TRUE</td><td>FALSE</td><td>FALSE</td><td>Black   </td></tr>\n",
              "\t<tr><th scope=row>3</th><td>93571</td><td>2001-01-01</td><td> 6420 secs</td><td>44.95916</td><td>-93.07182</td><td>94</td><td>NA</td><td>hispanic              </td><td>male</td><td>vehicular</td><td>FALSE</td><td>NA</td><td>FALSE</td><td>FALSE</td><td>FALSE</td><td>Hispanic</td></tr>\n",
              "\t<tr><th scope=row>4</th><td>93572</td><td>2001-01-01</td><td> 8520 secs</td><td>44.96015</td><td>-93.09198</td><td>92</td><td>NA</td><td>asian/pacific islander</td><td>male</td><td>vehicular</td><td>FALSE</td><td>NA</td><td> TRUE</td><td> TRUE</td><td> TRUE</td><td>Asian   </td></tr>\n",
              "\t<tr><th scope=row>5</th><td>93581</td><td>2001-01-01</td><td>54060 secs</td><td>44.95936</td><td>-93.14155</td><td>87</td><td>NA</td><td>black                 </td><td>male</td><td>vehicular</td><td>FALSE</td><td>NA</td><td> TRUE</td><td> TRUE</td><td> TRUE</td><td>Black   </td></tr>\n",
              "</tbody>\n",
              "</table>\n"
            ]
          },
          "metadata": {}
        }
      ]
    },
    {
      "cell_type": "code",
      "source": [
        "### Code Block 2 \n",
        "# Requires a green check mark next to Code Block 1. \n",
        "\n",
        "# After loading the data into R, you can have R tell you the names of each \n",
        "# column in the data set by using the command, \"names.\" \n",
        "names(fulldata)\n",
        "\n",
        "# If I want to know the name of the fourth column, I can type: \n",
        "names(fulldata)[4]\n",
        "\n",
        "# What happens if the column number is not valid?\n",
        "names(fulldata)[100]\n",
        "\n",
        "# This time, clicking play to run the program will print out the names, the \n",
        "# name of the fourth column, and what it sounds like when R doesn't like what \n",
        "# you typed but can still compile your code. "
      ],
      "metadata": {
        "colab": {
          "base_uri": "https://localhost:8080/",
          "height": 69
        },
        "id": "c6i0v43pyswb",
        "outputId": "fd19f229-a70f-4836-bb54-0f231fa325c1"
      },
      "execution_count": null,
      "outputs": [
        {
          "output_type": "display_data",
          "data": {
            "text/plain": [
              " [1] \"raw_row_number\"     \"date\"               \"time\"              \n",
              " [4] \"lat\"                \"lng\"                \"police_grid_number\"\n",
              " [7] \"subject_age\"        \"subject_race\"       \"subject_sex\"       \n",
              "[10] \"type\"               \"citation_issued\"    \"outcome\"           \n",
              "[13] \"frisk_performed\"    \"search_conducted\"   \"search_vehicle\"    \n",
              "[16] \"raw_race_of_driver\""
            ],
            "text/latex": "\\begin{enumerate*}\n\\item 'raw\\_row\\_number'\n\\item 'date'\n\\item 'time'\n\\item 'lat'\n\\item 'lng'\n\\item 'police\\_grid\\_number'\n\\item 'subject\\_age'\n\\item 'subject\\_race'\n\\item 'subject\\_sex'\n\\item 'type'\n\\item 'citation\\_issued'\n\\item 'outcome'\n\\item 'frisk\\_performed'\n\\item 'search\\_conducted'\n\\item 'search\\_vehicle'\n\\item 'raw\\_race\\_of\\_driver'\n\\end{enumerate*}\n",
            "text/markdown": "1. 'raw_row_number'\n2. 'date'\n3. 'time'\n4. 'lat'\n5. 'lng'\n6. 'police_grid_number'\n7. 'subject_age'\n8. 'subject_race'\n9. 'subject_sex'\n10. 'type'\n11. 'citation_issued'\n12. 'outcome'\n13. 'frisk_performed'\n14. 'search_conducted'\n15. 'search_vehicle'\n16. 'raw_race_of_driver'\n\n\n",
            "text/html": [
              "<style>\n",
              ".list-inline {list-style: none; margin:0; padding: 0}\n",
              ".list-inline>li {display: inline-block}\n",
              ".list-inline>li:not(:last-child)::after {content: \"\\00b7\"; padding: 0 .5ex}\n",
              "</style>\n",
              "<ol class=list-inline><li>'raw_row_number'</li><li>'date'</li><li>'time'</li><li>'lat'</li><li>'lng'</li><li>'police_grid_number'</li><li>'subject_age'</li><li>'subject_race'</li><li>'subject_sex'</li><li>'type'</li><li>'citation_issued'</li><li>'outcome'</li><li>'frisk_performed'</li><li>'search_conducted'</li><li>'search_vehicle'</li><li>'raw_race_of_driver'</li></ol>\n"
            ]
          },
          "metadata": {}
        },
        {
          "output_type": "display_data",
          "data": {
            "text/plain": [
              "[1] \"lat\""
            ],
            "text/latex": "'lat'",
            "text/markdown": "'lat'",
            "text/html": [
              "'lat'"
            ]
          },
          "metadata": {}
        },
        {
          "output_type": "display_data",
          "data": {
            "text/plain": [
              "[1] NA"
            ],
            "text/latex": "NA",
            "text/markdown": "NA",
            "text/html": [
              "NA"
            ]
          },
          "metadata": {}
        }
      ]
    },
    {
      "cell_type": "code",
      "source": [
        "### Code Block 3 \n",
        "# Requires a green check mark next to Code Block 1. \n",
        "\n",
        "length(fulldata)                  # counts how many columns are in fulldata\n",
        "length(fulldata$raw_row_number)   # change the column by picking a new name \n",
        "                                  # from Code Block 2"
      ],
      "metadata": {
        "colab": {
          "base_uri": "https://localhost:8080/",
          "height": 52
        },
        "id": "UQiWaADmys86",
        "outputId": "39ac421a-11f1-43e8-c49e-9962e755e8e8"
      },
      "execution_count": null,
      "outputs": [
        {
          "output_type": "display_data",
          "data": {
            "text/plain": [
              "[1] 16"
            ],
            "text/latex": "16",
            "text/markdown": "16",
            "text/html": [
              "16"
            ]
          },
          "metadata": {}
        },
        {
          "output_type": "display_data",
          "data": {
            "text/plain": [
              "[1] 675156"
            ],
            "text/latex": "675156",
            "text/markdown": "675156",
            "text/html": [
              "675156"
            ]
          },
          "metadata": {}
        }
      ]
    },
    {
      "cell_type": "code",
      "metadata": {
        "colab": {
          "base_uri": "https://localhost:8080/",
          "height": 125
        },
        "id": "J15hu1IxoW00",
        "outputId": "01d035b7-d094-41f4-a12d-a4fc745bf8ab"
      },
      "source": [
        "### Code Block 4\n",
        "# Requires a green check mark next to Code Block 1.\n",
        "names(fulldata)\n",
        "table(fulldata$subject_race)  # Pick a column to see aggregated entries. "
      ],
      "execution_count": null,
      "outputs": [
        {
          "output_type": "display_data",
          "data": {
            "text/plain": [
              " [1] \"raw_row_number\"     \"date\"               \"time\"              \n",
              " [4] \"lat\"                \"lng\"                \"police_grid_number\"\n",
              " [7] \"subject_age\"        \"subject_race\"       \"subject_sex\"       \n",
              "[10] \"type\"               \"citation_issued\"    \"outcome\"           \n",
              "[13] \"frisk_performed\"    \"search_conducted\"   \"search_vehicle\"    \n",
              "[16] \"raw_race_of_driver\""
            ],
            "text/latex": "\\begin{enumerate*}\n\\item 'raw\\_row\\_number'\n\\item 'date'\n\\item 'time'\n\\item 'lat'\n\\item 'lng'\n\\item 'police\\_grid\\_number'\n\\item 'subject\\_age'\n\\item 'subject\\_race'\n\\item 'subject\\_sex'\n\\item 'type'\n\\item 'citation\\_issued'\n\\item 'outcome'\n\\item 'frisk\\_performed'\n\\item 'search\\_conducted'\n\\item 'search\\_vehicle'\n\\item 'raw\\_race\\_of\\_driver'\n\\end{enumerate*}\n",
            "text/markdown": "1. 'raw_row_number'\n2. 'date'\n3. 'time'\n4. 'lat'\n5. 'lng'\n6. 'police_grid_number'\n7. 'subject_age'\n8. 'subject_race'\n9. 'subject_sex'\n10. 'type'\n11. 'citation_issued'\n12. 'outcome'\n13. 'frisk_performed'\n14. 'search_conducted'\n15. 'search_vehicle'\n16. 'raw_race_of_driver'\n\n\n",
            "text/html": [
              "<style>\n",
              ".list-inline {list-style: none; margin:0; padding: 0}\n",
              ".list-inline>li {display: inline-block}\n",
              ".list-inline>li:not(:last-child)::after {content: \"\\00b7\"; padding: 0 .5ex}\n",
              "</style>\n",
              "<ol class=list-inline><li>'raw_row_number'</li><li>'date'</li><li>'time'</li><li>'lat'</li><li>'lng'</li><li>'police_grid_number'</li><li>'subject_age'</li><li>'subject_race'</li><li>'subject_sex'</li><li>'type'</li><li>'citation_issued'</li><li>'outcome'</li><li>'frisk_performed'</li><li>'search_conducted'</li><li>'search_vehicle'</li><li>'raw_race_of_driver'</li></ol>\n"
            ]
          },
          "metadata": {}
        },
        {
          "output_type": "display_data",
          "data": {
            "text/plain": [
              "\n",
              "asian/pacific islander                  black               hispanic \n",
              "                 54904                 188761                  43062 \n",
              "                 white                  other                unknown \n",
              "                265143                   5292                      0 "
            ]
          },
          "metadata": {}
        }
      ]
    },
    {
      "cell_type": "markdown",
      "metadata": {
        "id": "mRB3iZ3HoQ_m"
      },
      "source": [
        "In Code Block 1, you started a list of questions after your page header. You should have at least three by now. Find out the answers to your questions (ask around, search the Internet, ...). Write down the answers. Either take a picture of your questions and answers or save your document as a PDF. You need access to the file you just created (photo or PDF) before you proceed to the next step. \n",
        "\n",
        "**Stone claiming:**\n",
        "\n",
        "> Go to Teams. \n",
        "\n",
        ">Find our class Team. \n",
        "\n",
        ">Find the Assignments tab. \n",
        "\n",
        ">Find the Week 1 Self Claim 1 assignment. \n",
        "\n",
        "> Attach your file to the assignment and click \"Turn In\"\n",
        "\n",
        "You have finished this file. Go to [Spring 2022 Module 1 B](https://colab.research.google.com/drive/1PeOIYYRf5AWyOYEv47r0zsPh3-gXffdE?usp=sharing) now.\n"
      ]
    }
  ]
}