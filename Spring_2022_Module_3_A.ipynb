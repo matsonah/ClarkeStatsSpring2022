{
  "nbformat": 4,
  "nbformat_minor": 0,
  "metadata": {
    "colab": {
      "name": "Spring 2022 Module 3 A.ipynb",
      "provenance": [],
      "authorship_tag": "ABX9TyPZyaDeWx0ZCLWKkAmFpmlw",
      "include_colab_link": true
    },
    "kernelspec": {
      "name": "ir",
      "display_name": "R"
    },
    "language_info": {
      "name": "R"
    }
  },
  "cells": [
    {
      "cell_type": "markdown",
      "metadata": {
        "id": "view-in-github",
        "colab_type": "text"
      },
      "source": [
        "<a href=\"https://colab.research.google.com/github/matsonah/ClarkeStatsSpring2022/blob/main/Spring_2022_Module_3_A.ipynb\" target=\"_parent\"><img src=\"https://colab.research.google.com/assets/colab-badge.svg\" alt=\"Open In Colab\"/></a>"
      ]
    },
    {
      "cell_type": "markdown",
      "source": [
        "Module 3: Data Science, Regression, and Correlation\n",
        "\n",
        "Featured outcome: \n",
        "\n",
        "> Observational and Experimental Studies (OES)\n",
        "\n",
        "Targetted stones: 22-27 \n",
        "\n",
        "22\n",
        "> Memorize this and know what it means. \n",
        "\n",
        "23\n",
        "> Engage your curiosity\n",
        "\n",
        "24\n",
        "> Be a detective \n",
        "\n",
        "25 \n",
        "> Look for features of experimental studies\n",
        "\n",
        "26 \n",
        "> Screenshot a graph or draw a graph and then draw arrows on it. \n",
        "\n",
        "27\n",
        "> Which code block does this for you? \n",
        "\n",
        "\n",
        "Chapter from text: [Chapter 2](https://openstax.org/books/introductory-statistics/pages/2-introduction)"
      ],
      "metadata": {
        "id": "lZuQ0kM-fkbE"
      }
    },
    {
      "cell_type": "code",
      "execution_count": 5,
      "metadata": {
        "id": "PP9Mld4cfFdj"
      },
      "outputs": [],
      "source": [
        "### Code Block 1 \n",
        "# Load a bunch of different data \n",
        "life <- read.csv(url(\"https://raw.githubusercontent.com/matsonah/ClarkeStatsSpring2022/main/data/National%20Life%20Expectancy%20Estimates%20Snippet.csv\"))\n",
        "FICO = read.csv(url(\"https://raw.githubusercontent.com/matsonah/ClarkeStatsSpring2022/main/data/Fico%20Avg%20and%20Top.csv\"))\n",
        "DBQ.med <- read.csv(url(\"https://raw.githubusercontent.com/matsonah/ClarkeStatsSpring2022/main/data/Median%20Household%20Income%20-%20Dubuque.csv\") )\n",
        "care <- read.csv(url(\"https://raw.githubusercontent.com/matsonah/ClarkeStatsSpring2022/main/data/AHRQ%20Reasons%20Difficulty%20Care.csv\"))\n",
        "drugs = read.csv(url(\"https://raw.githubusercontent.com/matsonah/ClarkeStatsSpring2022/main/data/drug%20related%20deaths.csv\"))\n",
        "WID.ratio <- read.csv(url(\"https://raw.githubusercontent.com/matsonah/ClarkeStatsSpring2022/main/data/WID_Data_2021-07-21.csv\"))\n",
        "RAE.DBQ = read.csv(url(\"https://raw.githubusercontent.com/matsonah/ClarkeStatsSpring2022/main/data/rae.csv\"))\n",
        "USA.Wealth = read.csv(url(\"https://raw.githubusercontent.com/matsonah/ClarkeStatsSpring2022/main/data/USA%20Wealth%20Distribution.csv\"))\n",
        "COVID.Hospital = read.csv(url(\"https://raw.githubusercontent.com/matsonah/ClarkeStatsSpring2022/main/data/COVID-19_Reported_Patient_Impact_and_Hospital_Capacity_by_State.csv\"))\n",
        "Closed.Hospitals = read.csv(url(\"https://raw.githubusercontent.com/matsonah/ClarkeStatsSpring2022/main/data/hcd.csv\"))\n",
        "available_stones_per_outcome = c(20, 12, 55, 38, 22, 23, 21, 14, 18, 11, 8)\n",
        "claimed_stones_per_outcome = c(0,0,0,0,0,0,0,0,0,0,0)"
      ]
    },
    {
      "cell_type": "code",
      "source": [
        "FICO <- read.csv(\"Fico Avg and Top.csv\")\n",
        "#\n",
        "plot(FICO$FicoAvg,FICO$FicoTop)\n",
        "#"
      ],
      "metadata": {
        "id": "j-w4xNSEgZzt"
      },
      "execution_count": null,
      "outputs": []
    },
    {
      "cell_type": "code",
      "source": [
        "life <- read.csv(\"National Life Expectancy Estimates Snippet.csv\")\n",
        "#\n",
        "plot(life$Household.Income.Percentile, life$Race.Adjusted.Life.Expectancy.F, col=\"blue\", xlab=\"Household income percentage\", ylab=\"Life expectancy at age 40 (race-adjusted)\", xlim=c(0,100), ylim=c(70,90))\n",
        "#\n",
        "points(life$Household.Income.Percentile, life$Race.Adjusted.Life.Expectancy.M, col=\"red\")\n",
        "#\n",
        "legend(40,75,legend=c(\"Women\", \"Men\"), col=c(\"blue\",\"red\"), pch=1:1)\n",
        "#\n",
        "summary(life)"
      ],
      "metadata": {
        "id": "F69sE9sCg_KC"
      },
      "execution_count": null,
      "outputs": []
    },
    {
      "cell_type": "code",
      "source": [
        "DBQ.med <- read.csv(\"Median Household Income - Dubuque.csv\") \n",
        "#\n",
        "simple.fit = lm(DBQ.med$Household.Income.by.Race~DBQ.med$ID.Year, data.frame(DBQ.med$ID.Year,DBQ.med$Household.Income.by.Race))\n",
        "#\n",
        "newyears <- data.frame(seq(2012,2020,1)) \n",
        "#\n",
        "DBQ.pred <- data.frame(newyears, newyears*simple.fit$coefficients[2]+simple.fit$coefficients[1]) \n",
        "#\n",
        "plot(DBQ.med$ID.Year,  DBQ.med$Household.Income.by.Race, type=\"l\", lwd=2, col=\"dark green\", xlab=\"Year\", ylab=\"Median Household Income\", xlim=c(2012,2020), ylim=c(47500,65000)) \n",
        "#\n",
        "abline(simple.fit, col=\"blue\", lty=2)\n",
        "#\n",
        "points(DBQ.pred) \n",
        "#\n",
        "DBQ.pred"
      ],
      "metadata": {
        "id": "DUOL_Se7hFkj"
      },
      "execution_count": null,
      "outputs": []
    },
    {
      "cell_type": "code",
      "source": [
        "care <- read.csv(\"AHRQ Reasons Difficulty Care.csv\")\n",
        "#\n",
        "simple.fit <- lm(care$Cannot.afford~care$Year, data.frame(care$Year, care$Cannot.afford))\n",
        "#\n",
        "newyears <- data.frame(seq(2002,2017,1))\n",
        "#\n",
        "pred <- data.frame(newyears,newyears*simple.fit$coefficients[2]+simple.fit$coefficients[1])\n",
        "#\n",
        "plot(care$Year, care$Cannot.afford, type=\"l\", lwd=\"2\", col=\"blue\", xlab=\"Year\", ylab=\"Number (thousands) with difficulty obtaining medical care\", xlim=c(2002,2017), ylim=c(0,8000))\n",
        "#\n",
        "lines(care$Year, care$Insurance.related, type=\"l\", lwd=\"2\", col=\"red\")\n",
        "#\n",
        "lines(care$Year, care$Other, type=\"l\", lwd=\"2\", col=\"green\")\n",
        "#\n",
        "legend(2005,4000,legend=c(\"Cannot afford\", \"Insurance related\", \"Other\"),col=c(\"blue\",\"red\",\"green\"),lty=1:1:1)\n",
        "#"
      ],
      "metadata": {
        "id": "OJ_71npdhJwu"
      },
      "execution_count": null,
      "outputs": []
    },
    {
      "cell_type": "code",
      "source": [
        "WID.ratio <- read.csv(\"WID_Data_2021-07-21.csv\")\n",
        "#\n",
        "WID.ratio$Year2 <- WID.ratio$Year^2  #makes quadratic term\n",
        "#\n",
        "WID.bottom = lm(WID.ratio$p0p50.Percent ~ WID.ratio$Year+WID.ratio$Year2)   #quadratic regression \n",
        "#\n",
        "WID.top = lm(WID.ratio$p99p100.Percent ~ WID.ratio$Year+WID.ratio$Year2)    # quadratic regression \n",
        "#\n",
        "WID.bottom.prediction = data.frame(WID.ratio$Year, WID.ratio$Year2*WID.bottom$coefficients[3]+WID.ratio$Year*WID.bottom$coefficients[2]+WID.bottom$coefficients[1])\n",
        "#\n",
        "WID.top.prediction = data.frame(WID.ratio$Year, WID.ratio$Year2*WID.top$coefficients[3]+WID.ratio$Year*WID.top$coefficients[2]+WID.top$coefficients[1])\n",
        "#\n",
        "plot(WID.ratio$Year,WID.ratio$p0p50.Percent, col=\"dark green\", type=\"l\",ylim=c(0,0.3),xlab=\"Year\", ylab=\"Percent of National Wealth\")     #starting plot \n",
        "#\n",
        "lines(WID.ratio$Year,WID.ratio$p99p100.Percent, col=\"red\",type=\"l\")  #plot of top 1% \n",
        "#\n",
        "lines(WID.bottom.prediction, col=\"dark green\")  #plot bottom 50 regression quadratic! \n",
        "#\n",
        "lines(WID.top.prediction, col=\"red\")    # plot top 1 regression quadratic\n",
        "#\n",
        "legend(1920,0.03,legend=c(\"Wealth held by bottom 50% of Population\",\"Wealth held by top 1% of Population\"),col=c(\"dark green\",\"red\"), lty=1:1)   #puts in a legend\n",
        "#"
      ],
      "metadata": {
        "id": "SpXhJaFyhM1p"
      },
      "execution_count": null,
      "outputs": []
    }
  ]
}