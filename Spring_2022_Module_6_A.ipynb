{
  "nbformat": 4,
  "nbformat_minor": 0,
  "metadata": {
    "colab": {
      "name": "Spring 2022 Module 6 A.ipynb",
      "provenance": [],
      "include_colab_link": true
    },
    "kernelspec": {
      "name": "ir",
      "display_name": "R"
    },
    "language_info": {
      "name": "R"
    }
  },
  "cells": [
    {
      "cell_type": "markdown",
      "metadata": {
        "id": "view-in-github",
        "colab_type": "text"
      },
      "source": [
        "<a href=\"https://colab.research.google.com/github/matsonah/ClarkeStatsSpring2022/blob/main/Spring_2022_Module_6_A.ipynb\" target=\"_parent\"><img src=\"https://colab.research.google.com/assets/colab-badge.svg\" alt=\"Open In Colab\"/></a>"
      ]
    },
    {
      "cell_type": "markdown",
      "metadata": {
        "id": "94aR5v7Bmwtj"
      },
      "source": [
        "Module 6 includes stones 38 through 44 and primarily practices outcome 7. For those reading the OER text, we are in [Chapter 8](https://openstax.org/books/introductory-statistics/pages/8-introduction). \n",
        "\n",
        "Code Block 1: Gathers data and chooses a subset of the data. \n",
        "\n",
        "Code Block 2: Uses a formula to calculate a confidence interval. \n",
        "\n",
        "Code Block 3: \n",
        "Bypasses building a population (saves memory) by drawing samples with replacement 100,000 times. The means of those samples make a normal distribution. R uses the Empirical Rule to spit out a confidence interval for where the desired mean actually is. \n",
        "\n",
        "Code Block 4: Draws the histogram with boundaries based on whichever of Code Block 3 or 4 that was run most recently. \n",
        "\n",
        "Code Block 5: Some notes about calculating sigma. "
      ]
    },
    {
      "cell_type": "code",
      "metadata": {
        "id": "nUP5cuUOmgFl",
        "colab": {
          "base_uri": "https://localhost:8080/"
        },
        "outputId": "a811ad88-ff6c-49a9-d3ea-5dc578d0a74f"
      },
      "source": [
        "#### Code Block 1\n",
        "ethnicity <- read.csv(url(\"https://raw.githubusercontent.com/matsonah/ClarkeStatsSpring2022/main/data/rae.csv\"))\n",
        "\n",
        "tom_sums <-0\n",
        "\n",
        "years=seq(2013, 2019, 1)\n",
        "for(year in 1:7) {\n",
        "  temp_data = 0\n",
        "  temp_data = subset(ethnicity, ID.Race==6 & Year==years[year])\n",
        "  tom_sums[year]=sum(temp_data$Population)\n",
        "}\n",
        "\n",
        "tom <- data.frame(Year=years, Population=tom_sums)\n",
        "\n",
        "str(tom)"
      ],
      "execution_count": 2,
      "outputs": [
        {
          "output_type": "stream",
          "name": "stdout",
          "text": [
            "'data.frame':\t7 obs. of  2 variables:\n",
            " $ Year      : num  2013 2014 2015 2016 2017 ...\n",
            " $ Population: num  2407 2234 2030 1554 1320 ...\n"
          ]
        }
      ]
    },
    {
      "cell_type": "markdown",
      "metadata": {
        "id": "9CedVBChnqln"
      },
      "source": [
        "We have a sample from a population. We'd like to use that sample to statistically infer something about the population. \n",
        "\n",
        "The gist of the matter:\n",
        "\n",
        "\n",
        "*   We assume the sample is representative. \n",
        "*   That means the population is pretty close to very many copies of the sample. \n",
        "*   Make copies of the sample to simulate the population. This is called boot strapping. \n",
        "*   Take samples from that boot strapped population to see the range of statistics gathered. \n",
        "\n"
      ]
    },
    {
      "cell_type": "code",
      "metadata": {
        "id": "jR8K67Y-qG7U",
        "colab": {
          "base_uri": "https://localhost:8080/"
        },
        "outputId": "4f2a8f18-3277-4071-e419-1a170e5b4d03"
      },
      "source": [
        "#### Code Block 2\n",
        "\n",
        "data= tom$Population\n",
        "conf.level = 0.95\n",
        "x.bar = mean(data)  #or median(data).\n",
        "\n",
        "\n",
        "### This part is automated.\n",
        "sample.size = length(data)\n",
        "stdev = sd(data)\n",
        "z.star = qnorm(conf.level) \n",
        "margin.of.error = abs(z.star)*(stdev/sqrt(sample.size))  # Formula from text\n",
        "lower.bound = x.bar - margin.of.error\n",
        "upper.bound = x.bar + margin.of.error\n",
        "cat(sep=\"\",\"At a confidence level of \", conf.level*100, \n",
        "      \"%, the actual mean of the population is between \", \n",
        "      lower.bound,\" and \", upper.bound, \".\")  #use floor and ceiling functions if whole numbers make more sense. "
      ],
      "execution_count": 4,
      "outputs": [
        {
          "output_type": "stream",
          "name": "stdout",
          "text": [
            "At a confidence level of 95%, the actual mean of the population is between 1319.276 and 2014.153."
          ]
        }
      ]
    },
    {
      "cell_type": "markdown",
      "metadata": {
        "id": "zh7dRxCjiWSl"
      },
      "source": [
        "Bypass the building of a fake population by drawing a sample with replacement. "
      ]
    },
    {
      "cell_type": "code",
      "metadata": {
        "colab": {
          "base_uri": "https://localhost:8080/"
        },
        "id": "7xIejp4TWL1n",
        "outputId": "378a68a8-18d7-4df9-f958-1ff6591f582b"
      },
      "source": [
        "#### Code Block 3\n",
        "data<-0\n",
        "\n",
        "data = tom$Population\n",
        "z_conf=0.95 \n",
        "\n",
        "\n",
        "\n",
        "## This part is automated.\n",
        "\n",
        "alpha = 1-z_conf \n",
        "zsc=qnorm(z_conf + alpha/2)\n",
        "\n",
        "size=length(data)\n",
        "cat(\"Sample size:\", size, \"observational units.\\n\")\n",
        "\n",
        "test <- 0\n",
        "test_runs = 100000\n",
        "for(i in 1:test_runs){\n",
        "  test[i] = mean( sample(data,size,replace=TRUE))\n",
        "  }\n",
        "\n",
        "cat(\"Original sample statistic is an average of\", mean(data),\"units with a standard deviation of\", sd(data), \"units.\\n\")\n",
        "\n",
        "Boot = data.frame(x=test)\n",
        "Boot_mean = mean(Boot$x)\n",
        "Boot_sd = sd(Boot$x)\n",
        "Boot_left=Boot_mean - zsc*Boot_sd\n",
        "Boot_right=Boot_mean + zsc*Boot_sd \n",
        "Boots=c(Boot_left,Boot_right)\n",
        "\n",
        "cat(sep=\"\", \"With a confidence level of \", z_conf*100, \"%, the actual population paramater is between \", Boot_left, \" and \", Boot_right, \".\\n\")\n"
      ],
      "execution_count": 5,
      "outputs": [
        {
          "output_type": "stream",
          "name": "stdout",
          "text": [
            "Sample size: 7 observational units.\n",
            "Original sample statistic is an average of 1666.714 units with a standard deviation of 558.8553 units.\n",
            "With a confidence level of 95%, the actual population paramater is between 1283.639 and 2047.993.\n"
          ]
        }
      ]
    },
    {
      "cell_type": "code",
      "metadata": {
        "colab": {
          "base_uri": "https://localhost:8080/",
          "height": 454
        },
        "id": "wLU_uOUKkYyf",
        "outputId": "cda4fa42-b9d3-44f9-d3d3-629d6fad79f0"
      },
      "source": [
        "#### Code Block 4\n",
        "# Requires running Code Block 3\n",
        "library(ggplot2)\n",
        "\n",
        "# Fancy function defined to allow for shading. \n",
        "dnorm_sd <- function(x,numsd){\n",
        "  norm_sd <- dnorm(x,Boot_mean, Boot_sd)\n",
        "  lb = Boot_mean - numsd*Boot_sd  #left bound \n",
        "  rb = Boot_mean + numsd*Boot_sd  #right bound \n",
        "  # Force NA values outside interval x in [leftbound, rightbound]:\n",
        "  norm_sd[x <= lb | x >= rb] <- NA\n",
        "  return(norm_sd)   #return is the result of the function dnorm_sd \n",
        "}\n",
        "\n",
        "width = (max(data)-min(data))/(10*length(data))\n",
        "\n",
        "ggplot( Boot, aes(x)) + \n",
        "  geom_histogram(aes(y=..density..),binwidth=width) +   #change bindwidth to be nice.\n",
        "  stat_function( fun=dnorm,    args=list(mean=Boot_mean, sd=Boot_sd), col=\"green\", size=2) +\n",
        "  stat_function( fun=dnorm_sd, args=list(numsd=zsc),  geom=\"area\",  fill=\"green\", alpha=0.3 ) + \n",
        "  geom_vline( xintercept=Boots,  linetype=\"longdash\",  col=\"blue\", size=2) \n",
        "\n",
        "cat(sep=\"\", \"With a confidence level of \", z_conf*100, \"%, the actual population paramater is between \", Boot_left, \" and \", Boot_right, \".\\n\")"
      ],
      "execution_count": 7,
      "outputs": [
        {
          "output_type": "stream",
          "name": "stdout",
          "text": [
            "With a confidence level of 95%, the actual population paramater is between 1283.639 and 2047.993.\n"
          ]
        },
        {
          "output_type": "display_data",
          "data": {
            "image/png": "[encoded data removed]",
            "text/plain": [
              "plot without title"
            ]
          },
          "metadata": {
            "image/png": {
              "width": 420,
              "height": 420
            }
          }
        }
      ]
    },
    {
      "cell_type": "code",
      "metadata": {
        "colab": {
          "base_uri": "https://localhost:8080/"
        },
        "id": "ubvw_eod3uXY",
        "outputId": "65719e4a-399a-4451-f0b5-eaf7084471c5"
      },
      "source": [
        "### Code Block 6\n",
        "data = tom$Population\n",
        "\n",
        "M_data = mean(data)\n",
        "size_data = length(data) \n",
        "Dev_data = data - M_data \n",
        "Dev_data2 = Dev_data*Dev_data\n",
        "sigma=sqrt(sum(Dev_data2/size_data))  #STDEV.P in Excel \n",
        "sigma_xl = sqrt(sum(Dev_data2/(size_data - 1)))  #STDEV in Excel \n",
        "cat(\"Calculated sigma type 1:\", sigma, \"Excel calculated sigma:\", sigma_xl, \"& R sigma:\", sd(data))    \n"
      ],
      "execution_count": 9,
      "outputs": [
        {
          "output_type": "stream",
          "name": "stdout",
          "text": [
            "Calculated sigma type 1: 517.3995 Excel calculated sigma: 558.8553 & R sigma: 558.8553"
          ]
        }
      ]
    }
  ]
}