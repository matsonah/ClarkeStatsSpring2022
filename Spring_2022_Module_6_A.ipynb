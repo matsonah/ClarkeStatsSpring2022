{
  "nbformat": 4,
  "nbformat_minor": 0,
  "metadata": {
    "colab": {
      "name": "Spring 2022 Module 6 A.ipynb",
      "provenance": [],
      "include_colab_link": true
    },
    "kernelspec": {
      "name": "ir",
      "display_name": "R"
    },
    "language_info": {
      "name": "R"
    }
  },
  "cells": [
    {
      "cell_type": "markdown",
      "metadata": {
        "id": "view-in-github",
        "colab_type": "text"
      },
      "source": [
        "<a href=\"https://colab.research.google.com/github/matsonah/ClarkeStatsSpring2022/blob/main/Spring_2022_Module_6_A.ipynb\" target=\"_parent\"><img src=\"https://colab.research.google.com/assets/colab-badge.svg\" alt=\"Open In Colab\"/></a>"
      ]
    },
    {
      "cell_type": "markdown",
      "metadata": {
        "id": "94aR5v7Bmwtj"
      },
      "source": [
        "Module 6 includes stones 39 through 45 and primarily practices the CI outcome. For those reading the OER text, we are in [Chapter 8](https://openstax.org/books/introductory-statistics/pages/8-introduction). \n",
        "\n",
        "Code Block 1: Gathers data\n",
        "\n",
        "Code Block 2: Chooses data \n",
        "\n",
        "Code Block 4: Uses a formula to calculate a confidence interval. \n",
        "\n",
        "Code Block 5: \n",
        "Bypasses building a population (saves memory) by drawing samples with replacement 100,000 times. The means of those samples make a normal distribution. R uses the Empirical Rule to spit out a confidence interval for where the desired mean actually is. \n",
        "\n",
        "Code Block 6: Draws the histogram with boundaries based on Code Block 5. \n",
        "\n",
        "Code Block 7: Some notes about calculating sigma. "
      ]
    },
    {
      "cell_type": "code",
      "source": [
        "#### Code Block 1\n",
        "gender = read.csv(url(\"https://gender-pay-gap.service.gov.uk/viewing/download-data/2019\"))   #Try out different years\n",
        "names(gender)\n",
        "# Read about calculations: https://www.gov.uk/guidance/making-your-gender-pay-gap-calculations#overview \n",
        "backup = gender "
      ],
      "metadata": {
        "colab": {
          "base_uri": "https://localhost:8080/",
          "height": 69
        },
        "id": "9bYToNsJd4KY",
        "outputId": "6953e3d9-c0a3-4026-ad14-0ea6f2acfc9e"
      },
      "execution_count": 3,
      "outputs": [
        {
          "output_type": "display_data",
          "data": {
            "text/plain": [
              " [1] \"EmployerName\"              \"EmployerId\"               \n",
              " [3] \"Address\"                   \"PostCode\"                 \n",
              " [5] \"CompanyNumber\"             \"SicCodes\"                 \n",
              " [7] \"DiffMeanHourlyPercent\"     \"DiffMedianHourlyPercent\"  \n",
              " [9] \"DiffMeanBonusPercent\"      \"DiffMedianBonusPercent\"   \n",
              "[11] \"MaleBonusPercent\"          \"FemaleBonusPercent\"       \n",
              "[13] \"MaleLowerQuartile\"         \"FemaleLowerQuartile\"      \n",
              "[15] \"MaleLowerMiddleQuartile\"   \"FemaleLowerMiddleQuartile\"\n",
              "[17] \"MaleUpperMiddleQuartile\"   \"FemaleUpperMiddleQuartile\"\n",
              "[19] \"MaleTopQuartile\"           \"FemaleTopQuartile\"        \n",
              "[21] \"CompanyLinkToGPGInfo\"      \"ResponsiblePerson\"        \n",
              "[23] \"EmployerSize\"              \"CurrentName\"              \n",
              "[25] \"SubmittedAfterTheDeadline\" \"DueDate\"                  \n",
              "[27] \"DateSubmitted\"            "
            ],
            "text/latex": "\\begin{enumerate*}\n\\item 'EmployerName'\n\\item 'EmployerId'\n\\item 'Address'\n\\item 'PostCode'\n\\item 'CompanyNumber'\n\\item 'SicCodes'\n\\item 'DiffMeanHourlyPercent'\n\\item 'DiffMedianHourlyPercent'\n\\item 'DiffMeanBonusPercent'\n\\item 'DiffMedianBonusPercent'\n\\item 'MaleBonusPercent'\n\\item 'FemaleBonusPercent'\n\\item 'MaleLowerQuartile'\n\\item 'FemaleLowerQuartile'\n\\item 'MaleLowerMiddleQuartile'\n\\item 'FemaleLowerMiddleQuartile'\n\\item 'MaleUpperMiddleQuartile'\n\\item 'FemaleUpperMiddleQuartile'\n\\item 'MaleTopQuartile'\n\\item 'FemaleTopQuartile'\n\\item 'CompanyLinkToGPGInfo'\n\\item 'ResponsiblePerson'\n\\item 'EmployerSize'\n\\item 'CurrentName'\n\\item 'SubmittedAfterTheDeadline'\n\\item 'DueDate'\n\\item 'DateSubmitted'\n\\end{enumerate*}\n",
            "text/markdown": "1. 'EmployerName'\n2. 'EmployerId'\n3. 'Address'\n4. 'PostCode'\n5. 'CompanyNumber'\n6. 'SicCodes'\n7. 'DiffMeanHourlyPercent'\n8. 'DiffMedianHourlyPercent'\n9. 'DiffMeanBonusPercent'\n10. 'DiffMedianBonusPercent'\n11. 'MaleBonusPercent'\n12. 'FemaleBonusPercent'\n13. 'MaleLowerQuartile'\n14. 'FemaleLowerQuartile'\n15. 'MaleLowerMiddleQuartile'\n16. 'FemaleLowerMiddleQuartile'\n17. 'MaleUpperMiddleQuartile'\n18. 'FemaleUpperMiddleQuartile'\n19. 'MaleTopQuartile'\n20. 'FemaleTopQuartile'\n21. 'CompanyLinkToGPGInfo'\n22. 'ResponsiblePerson'\n23. 'EmployerSize'\n24. 'CurrentName'\n25. 'SubmittedAfterTheDeadline'\n26. 'DueDate'\n27. 'DateSubmitted'\n\n\n",
            "text/html": [
              "<style>\n",
              ".list-inline {list-style: none; margin:0; padding: 0}\n",
              ".list-inline>li {display: inline-block}\n",
              ".list-inline>li:not(:last-child)::after {content: \"\\00b7\"; padding: 0 .5ex}\n",
              "</style>\n",
              "<ol class=list-inline><li>'EmployerName'</li><li>'EmployerId'</li><li>'Address'</li><li>'PostCode'</li><li>'CompanyNumber'</li><li>'SicCodes'</li><li>'DiffMeanHourlyPercent'</li><li>'DiffMedianHourlyPercent'</li><li>'DiffMeanBonusPercent'</li><li>'DiffMedianBonusPercent'</li><li>'MaleBonusPercent'</li><li>'FemaleBonusPercent'</li><li>'MaleLowerQuartile'</li><li>'FemaleLowerQuartile'</li><li>'MaleLowerMiddleQuartile'</li><li>'FemaleLowerMiddleQuartile'</li><li>'MaleUpperMiddleQuartile'</li><li>'FemaleUpperMiddleQuartile'</li><li>'MaleTopQuartile'</li><li>'FemaleTopQuartile'</li><li>'CompanyLinkToGPGInfo'</li><li>'ResponsiblePerson'</li><li>'EmployerSize'</li><li>'CurrentName'</li><li>'SubmittedAfterTheDeadline'</li><li>'DueDate'</li><li>'DateSubmitted'</li></ol>\n"
            ]
          },
          "metadata": {}
        }
      ]
    },
    {
      "cell_type": "code",
      "source": [
        "#### Code Block 2 \n",
        "# Pick a column. \n",
        "gender$column = gender$FemaleUpperMiddleQuartile \n",
        "length(gender$column)"
      ],
      "metadata": {
        "colab": {
          "base_uri": "https://localhost:8080/",
          "height": 34
        },
        "id": "Xhu9CpUQeSk5",
        "outputId": "19eaeb4a-0c23-4505-cff3-6f46ad1ee092"
      },
      "execution_count": 6,
      "outputs": [
        {
          "output_type": "display_data",
          "data": {
            "text/plain": [
              "[1] 6955"
            ],
            "text/latex": "6955",
            "text/markdown": "6955",
            "text/html": [
              "6955"
            ]
          },
          "metadata": {}
        }
      ]
    },
    {
      "cell_type": "markdown",
      "metadata": {
        "id": "9CedVBChnqln"
      },
      "source": [
        "We have a sample from a population. We'd like to use that sample to statistically infer something about the population. \n",
        "\n",
        "The gist of the matter:\n",
        "\n",
        "\n",
        "*   We assume the sample is representative. \n",
        "*   That means the population is pretty close to very many copies of the sample. \n",
        "*   Make copies of the sample to simulate the population. This is called boot strapping. \n",
        "*   Take samples from that boot strapped population to see the range of statistics gathered. \n",
        "\n"
      ]
    },
    {
      "cell_type": "code",
      "metadata": {
        "id": "jR8K67Y-qG7U",
        "colab": {
          "base_uri": "https://localhost:8080/"
        },
        "outputId": "4f795d7d-9b7d-41ae-a94e-5e809ceec18d"
      },
      "source": [
        "#### Code Block 3\n",
        "\n",
        "data= gender$column\n",
        "z_conf = 0.95\n",
        "x.bar = mean(data)  #or median(data).\n",
        "\n",
        "\n",
        "### This part is automated.\n",
        "sample.size = length(data)\n",
        "stdev = sd(data)\n",
        "z.star = qnorm(z_conf) \n",
        "margin.of.error = abs(z.star)*(stdev/sqrt(sample.size))  # Formula from text\n",
        "lower.bound = x.bar - margin.of.error\n",
        "upper.bound = x.bar + margin.of.error\n",
        "cat(sep=\"\",\"At a confidence level of \", z_conf*100, \n",
        "      \"%, the actual mean of the population is between \", \n",
        "      lower.bound,\" and \", upper.bound, \".\\n\")  #use floor and ceiling functions if whole numbers make more sense. \n",
        "\n",
        "cat(sep=\"\", \"With a confidence level of \", z_conf*100, \"%, the actual population paramater is approximately \", x.bar, \" with a margin of error of \", margin.of.error, \".\\n\")\n"
      ],
      "execution_count": 12,
      "outputs": [
        {
          "output_type": "stream",
          "name": "stdout",
          "text": [
            "At a confidence level of 95%, the actual mean of the population is between 45.29759 and 46.31288.\n",
            "With a confidence level of 95%, the actual population paramater is approximately 45.80523 with a margin of error of 0.5076484.\n"
          ]
        }
      ]
    },
    {
      "cell_type": "markdown",
      "metadata": {
        "id": "zh7dRxCjiWSl"
      },
      "source": [
        "Bypass the building of a fake population by drawing a sample with replacement. "
      ]
    },
    {
      "cell_type": "code",
      "metadata": {
        "colab": {
          "base_uri": "https://localhost:8080/"
        },
        "id": "7xIejp4TWL1n",
        "outputId": "c87d1dfa-0bf6-42db-9c6f-6a1eb4b50fab"
      },
      "source": [
        "#### Code Block 4\n",
        "### Warning: If your size is big, this block will take a while. (e.g., sample size = 6,955 -> run time = 41 seconds)\n",
        "data<-0\n",
        "\n",
        "data = gender$column \n",
        "z_conf=0.95 \n",
        "\n",
        "\n",
        "\n",
        "## This part is automated.\n",
        "\n",
        "alpha = 1-z_conf \n",
        "zsc=qnorm(z_conf + alpha/2)\n",
        "\n",
        "size=length(data)\n",
        "cat(\"Sample size:\", size, \"observational units.\\n\")\n",
        "\n",
        "test <- 0\n",
        "test_runs = 100000\n",
        "for(i in 1:test_runs){\n",
        "  test[i] = mean( sample(data,size,replace=TRUE))\n",
        "  }\n",
        "\n",
        "cat(\"Original sample statistic is an average of\", mean(data),\"units with a standard deviation of\", sd(data), \"units.\\n\")\n",
        "\n",
        "Boot = data.frame(x=test)\n",
        "Boot_mean = mean(Boot$x)\n",
        "Boot_sd = sd(Boot$x)\n",
        "Boot_left=Boot_mean - zsc*Boot_sd\n",
        "Boot_right=Boot_mean + zsc*Boot_sd \n",
        "Boots=c(Boot_left,Boot_right)\n",
        "\n",
        "cat(sep=\"\", \"With a confidence level of \", z_conf*100, \"%, the actual population paramater is between \", Boot_left, \" and \", Boot_right, \".\\n\")\n",
        "cat(sep=\"\", \"With a confidence level of \", z_conf*100, \"%, the actual population paramater is approximately \", Boot_mean, \" with a margin of error of \", zsc*Boot_sd, \".\\n\")\n"
      ],
      "execution_count": 10,
      "outputs": [
        {
          "output_type": "stream",
          "name": "stdout",
          "text": [
            "Sample size: 6955 observational units.\n",
            "Original sample statistic is an average of 45.80523 units with a standard deviation of 25.73857 units.\n",
            "With a confidence level of 95%, the actual population paramater is between 45.20042 and 46.41106.\n",
            "With a confidence level of 95%, the actual population paramater is approximately 45.80574 with a margin of error of 0.6053179.\n"
          ]
        }
      ]
    },
    {
      "cell_type": "code",
      "metadata": {
        "colab": {
          "base_uri": "https://localhost:8080/",
          "height": 472
        },
        "id": "wLU_uOUKkYyf",
        "outputId": "94cf10d2-df81-4bb5-f4d5-aeec72a4c140"
      },
      "source": [
        "#### Code Block 4\n",
        "# Requires running Code Block 3\n",
        "library(ggplot2)\n",
        "\n",
        "# Fancy function defined to allow for shading. \n",
        "dnorm_sd <- function(x,numsd){\n",
        "  norm_sd <- dnorm(x,Boot_mean, Boot_sd)\n",
        "  lb = Boot_mean - numsd*Boot_sd  #left bound \n",
        "  rb = Boot_mean + numsd*Boot_sd  #right bound \n",
        "  # Force NA values outside interval x in [leftbound, rightbound]:\n",
        "  norm_sd[x <= lb | x >= rb] <- NA\n",
        "  return(norm_sd)   #return is the result of the function dnorm_sd \n",
        "}\n",
        "\n",
        "width = (max(data)-min(data))/(10*length(data))\n",
        "\n",
        "ggplot( Boot, aes(x)) + \n",
        "  geom_histogram(aes(y=..density..),binwidth=width) +   #change bindwidth to be nice.\n",
        "  stat_function( fun=dnorm,    args=list(mean=Boot_mean, sd=Boot_sd), col=\"green\", size=2) +\n",
        "  stat_function( fun=dnorm_sd, args=list(numsd=zsc),  geom=\"area\",  fill=\"green\", alpha=0.3 ) + \n",
        "  geom_vline( xintercept=Boots,  linetype=\"longdash\",  col=\"blue\", size=2) \n",
        "\n",
        "cat(sep=\"\", \"With a confidence level of \", z_conf*100, \"%, the actual population paramater is between \", Boot_left, \" and \", Boot_right, \".\\n\")\n",
        "cat(sep=\"\", \"With a confidence level of \", z_conf*100, \"%, the actual population paramater is approximately \", Boot_mean, \" with a margin of error of \", zsc*Boot_sd, \".\\n\")"
      ],
      "execution_count": 9,
      "outputs": [
        {
          "output_type": "stream",
          "name": "stdout",
          "text": [
            "With a confidence level of 95%, the actual population paramater is between 45.20481 and 46.4113.\n",
            "With a confidence level of 95%, the actual population paramater is approximately 45.80805 with a margin of error of 0.6032455.\n"
          ]
        },
        {
          "output_type": "display_data",
          "data": {
            "image/png": "[encoded data removed]",
            "text/plain": [
              "plot without title"
            ]
          },
          "metadata": {
            "image/png": {
              "width": 420,
              "height": 420
            }
          }
        }
      ]
    },
    {
      "cell_type": "code",
      "metadata": {
        "colab": {
          "base_uri": "https://localhost:8080/"
        },
        "id": "ubvw_eod3uXY",
        "outputId": "65719e4a-399a-4451-f0b5-eaf7084471c5"
      },
      "source": [
        "### Code Block 6\n",
        "data = gender$column \n",
        "\n",
        "M_data = mean(data)\n",
        "size_data = length(data) \n",
        "Dev_data = data - M_data \n",
        "Dev_data2 = Dev_data*Dev_data\n",
        "sigma=sqrt(sum(Dev_data2/size_data))  #STDEV.P in Excel \n",
        "sigma_xl = sqrt(sum(Dev_data2/(size_data - 1)))  #STDEV in Excel \n",
        "cat(\"Calculated sigma type 1:\", sigma, \"Excel calculated sigma:\", sigma_xl, \"& R sigma:\", sd(data))    \n"
      ],
      "execution_count": null,
      "outputs": [
        {
          "output_type": "stream",
          "name": "stdout",
          "text": [
            "Calculated sigma type 1: 517.3995 Excel calculated sigma: 558.8553 & R sigma: 558.8553"
          ]
        }
      ]
    }
  ]
}