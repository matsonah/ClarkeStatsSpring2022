{
  "nbformat": 4,
  "nbformat_minor": 0,
  "metadata": {
    "colab": {
      "name": "Spring 2022 Module 2 C.ipynb",
      "provenance": [],
      "authorship_tag": "ABX9TyMYJMdVJ/ldoBCYNm36E0dS",
      "include_colab_link": true
    },
    "kernelspec": {
      "name": "ir",
      "display_name": "R"
    },
    "language_info": {
      "name": "R"
    }
  },
  "cells": [
    {
      "cell_type": "markdown",
      "metadata": {
        "id": "view-in-github",
        "colab_type": "text"
      },
      "source": [
        "<a href=\"https://colab.research.google.com/github/matsonah/ClarkeStatsSpring2022/blob/main/Spring_2022_Module_2_C.ipynb\" target=\"_parent\"><img src=\"https://colab.research.google.com/assets/colab-badge.svg\" alt=\"Open In Colab\"/></a>"
      ]
    },
    {
      "cell_type": "code",
      "execution_count": null,
      "metadata": {
        "id": "F_xeWgjrKIy_"
      },
      "outputs": [],
      "source": [
        "### Code Block 1\n",
        "# This code block loads your cleaned data file from part A.\n",
        "# Since this is a new program, we reload the data.\n",
        "mydata = read.csv(\"Suggested File Name.csv\")\n",
        "\n",
        "# As usual, any clean data file could be used intead with appropriate changes\n",
        "# to the column names throughout."
      ]
    },
    {
      "cell_type": "code",
      "source": [
        "### Code Block 2\n",
        "# Requires a green check mark next to Code Block 1.\n",
        "# This code block creates a visualization of mydata.\n",
        "hist(mydata$appropriate.column)"
      ],
      "metadata": {
        "id": "4cBWJPZhKyr1"
      },
      "execution_count": null,
      "outputs": []
    },
    {
      "cell_type": "code",
      "source": [
        "### Code Block 3\n",
        "# Requires a green check mark next to Code Block 1.\n",
        "# This code block creates another visualization of mydata.\n",
        "boxplot(mydata$appropriate.column)"
      ],
      "metadata": {
        "id": "bUjFY92SLiL9"
      },
      "execution_count": null,
      "outputs": []
    },
    {
      "cell_type": "code",
      "source": [
        "### Code Block 4\n",
        "# Requires a green check mark next to Code Block 1.\n",
        "# Depending on the data set, it might be desirable to compare\n",
        "# multiple types of observation at once.\n",
        "boxplot(total~type,data=mydata, main=\"Diagnostic Exam Data By Type\",\n",
        "   xlab=\"Type of Exam\", ylab=\"Total Number of Exams\")"
      ],
      "metadata": {
        "id": "rjWBSK3pMIud"
      },
      "execution_count": null,
      "outputs": []
    },
    {
      "cell_type": "markdown",
      "source": [
        "You should now be able to claim stones 18 through 21 based on the Module 2\n",
        "colabs."
      ],
      "metadata": {
        "id": "Fjt633TlNOo4"
      }
    }
  ]
}